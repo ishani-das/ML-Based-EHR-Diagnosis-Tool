{
 "cells": [
  {
   "cell_type": "markdown",
   "metadata": {},
   "source": [
    "# IMPORT STATEMENTS"
   ]
  },
  {
   "cell_type": "code",
   "execution_count": 1,
   "metadata": {},
   "outputs": [],
   "source": [
    "from pywebio.input import input, FLOAT\n",
    "from pywebio.output import put_text\n",
    "from pywebio.input import *\n",
    "from pywebio.output import *\n",
    "\n",
    "import pandas as pd\n",
    "import numpy as np\n",
    "import seaborn as sns\n",
    "import matplotlib.pyplot as plt\n",
    "import sklearn\n",
    "from sklearn.model_selection import train_test_split \n",
    "\n",
    "from sklearn.linear_model import LogisticRegression\n",
    "from sklearn.tree import DecisionTreeClassifier \n",
    "from sklearn.neighbors import KNeighborsClassifier\n",
    "from sklearn.metrics import plot_confusion_matrix"
   ]
  },
  {
   "cell_type": "markdown",
   "metadata": {},
   "source": [
    "# GRABBING DATABASE INFO"
   ]
  },
  {
   "cell_type": "code",
   "execution_count": 2,
   "metadata": {},
   "outputs": [],
   "source": [
    "def readFile(diag_fn, labs_fn):\n",
    "    diag_file = open(diag_fn)\n",
    "    labs_fn = open(labs_fn)\n",
    "    \n",
    "    diagnosis_admissions_table = pd.read_table(diag_fn)\n",
    "    \n",
    "    labs_table = pd.read_table(labs_fn)\n",
    "    labs_table['PatientID'] =  labs_table['PatientID'] + '_' + labs_table['AdmissionID'].astype(str)\n",
    "            \n",
    "    return diagnosis_admissions_table, labs_table"
   ]
  },
  {
   "cell_type": "code",
   "execution_count": 32,
   "metadata": {},
   "outputs": [],
   "source": [
    "diag_table, labs_table = readFile('AdmissionsDiagnosesCorePopulatedTable_100.txt', 'LabsCorePopulatedTable_100.txt')"
   ]
  },
  {
   "cell_type": "code",
   "execution_count": 93,
   "metadata": {},
   "outputs": [
    {
     "data": {
      "text/html": [
       "<div>\n",
       "<style scoped>\n",
       "    .dataframe tbody tr th:only-of-type {\n",
       "        vertical-align: middle;\n",
       "    }\n",
       "\n",
       "    .dataframe tbody tr th {\n",
       "        vertical-align: top;\n",
       "    }\n",
       "\n",
       "    .dataframe thead th {\n",
       "        text-align: right;\n",
       "    }\n",
       "</style>\n",
       "<table border=\"1\" class=\"dataframe\">\n",
       "  <thead>\n",
       "    <tr style=\"text-align: right;\">\n",
       "      <th></th>\n",
       "      <th>PatientID</th>\n",
       "      <th>AdmissionID</th>\n",
       "      <th>LabName</th>\n",
       "      <th>LabValue</th>\n",
       "      <th>LabUnits</th>\n",
       "      <th>LabDateTime</th>\n",
       "    </tr>\n",
       "  </thead>\n",
       "  <tbody>\n",
       "    <tr>\n",
       "      <th>0</th>\n",
       "      <td>1A8791E3-A61C-455A-8DEE-763EB90C9B2C_1</td>\n",
       "      <td>1</td>\n",
       "      <td>URINALYSIS: RED BLOOD CELLS</td>\n",
       "      <td>1.8</td>\n",
       "      <td>rbc/hpf</td>\n",
       "      <td>1992-07-01 01:36:17.910</td>\n",
       "    </tr>\n",
       "    <tr>\n",
       "      <th>1</th>\n",
       "      <td>1A8791E3-A61C-455A-8DEE-763EB90C9B2C_1</td>\n",
       "      <td>1</td>\n",
       "      <td>METABOLIC: GLUCOSE</td>\n",
       "      <td>103.3</td>\n",
       "      <td>mg/dL</td>\n",
       "      <td>1992-06-30 09:35:52.383</td>\n",
       "    </tr>\n",
       "    <tr>\n",
       "      <th>2</th>\n",
       "      <td>1A8791E3-A61C-455A-8DEE-763EB90C9B2C_1</td>\n",
       "      <td>1</td>\n",
       "      <td>CBC: MCH</td>\n",
       "      <td>35.8</td>\n",
       "      <td>pg</td>\n",
       "      <td>1992-06-30 03:50:11.777</td>\n",
       "    </tr>\n",
       "    <tr>\n",
       "      <th>3</th>\n",
       "      <td>1A8791E3-A61C-455A-8DEE-763EB90C9B2C_1</td>\n",
       "      <td>1</td>\n",
       "      <td>METABOLIC: CALCIUM</td>\n",
       "      <td>8.9</td>\n",
       "      <td>mg/dL</td>\n",
       "      <td>1992-06-30 12:09:46.107</td>\n",
       "    </tr>\n",
       "    <tr>\n",
       "      <th>4</th>\n",
       "      <td>1A8791E3-A61C-455A-8DEE-763EB90C9B2C_1</td>\n",
       "      <td>1</td>\n",
       "      <td>CBC: RED BLOOD CELL COUNT</td>\n",
       "      <td>4.8</td>\n",
       "      <td>m/cumm</td>\n",
       "      <td>1992-07-01 01:31:08.677</td>\n",
       "    </tr>\n",
       "    <tr>\n",
       "      <th>...</th>\n",
       "      <td>...</td>\n",
       "      <td>...</td>\n",
       "      <td>...</td>\n",
       "      <td>...</td>\n",
       "      <td>...</td>\n",
       "      <td>...</td>\n",
       "    </tr>\n",
       "    <tr>\n",
       "      <th>111478</th>\n",
       "      <td>F0B53A2C-98CA-415D-B928-E3FD0E52B22A_6</td>\n",
       "      <td>6</td>\n",
       "      <td>CBC: HEMOGLOBIN</td>\n",
       "      <td>13.6</td>\n",
       "      <td>gm/dl</td>\n",
       "      <td>2012-04-21 03:23:50.883</td>\n",
       "    </tr>\n",
       "    <tr>\n",
       "      <th>111479</th>\n",
       "      <td>F0B53A2C-98CA-415D-B928-E3FD0E52B22A_6</td>\n",
       "      <td>6</td>\n",
       "      <td>CBC: MCH</td>\n",
       "      <td>26.2</td>\n",
       "      <td>pg</td>\n",
       "      <td>2012-04-21 03:18:44.127</td>\n",
       "    </tr>\n",
       "    <tr>\n",
       "      <th>111480</th>\n",
       "      <td>F0B53A2C-98CA-415D-B928-E3FD0E52B22A_6</td>\n",
       "      <td>6</td>\n",
       "      <td>METABOLIC: CHLORIDE</td>\n",
       "      <td>104.4</td>\n",
       "      <td>mmol/L</td>\n",
       "      <td>2012-04-21 02:58:57.840</td>\n",
       "    </tr>\n",
       "    <tr>\n",
       "      <th>111481</th>\n",
       "      <td>F0B53A2C-98CA-415D-B928-E3FD0E52B22A_6</td>\n",
       "      <td>6</td>\n",
       "      <td>METABOLIC: GLUCOSE</td>\n",
       "      <td>63.3</td>\n",
       "      <td>mg/dL</td>\n",
       "      <td>2012-04-21 02:50:04.503</td>\n",
       "    </tr>\n",
       "    <tr>\n",
       "      <th>111482</th>\n",
       "      <td>F0B53A2C-98CA-415D-B928-E3FD0E52B22A_6</td>\n",
       "      <td>6</td>\n",
       "      <td>CBC: MCHC</td>\n",
       "      <td>38.6</td>\n",
       "      <td>g/dl</td>\n",
       "      <td>2012-04-21 03:27:10.293</td>\n",
       "    </tr>\n",
       "  </tbody>\n",
       "</table>\n",
       "<p>111483 rows × 6 columns</p>\n",
       "</div>"
      ],
      "text/plain": [
       "                                     PatientID  AdmissionID  \\\n",
       "0       1A8791E3-A61C-455A-8DEE-763EB90C9B2C_1            1   \n",
       "1       1A8791E3-A61C-455A-8DEE-763EB90C9B2C_1            1   \n",
       "2       1A8791E3-A61C-455A-8DEE-763EB90C9B2C_1            1   \n",
       "3       1A8791E3-A61C-455A-8DEE-763EB90C9B2C_1            1   \n",
       "4       1A8791E3-A61C-455A-8DEE-763EB90C9B2C_1            1   \n",
       "...                                        ...          ...   \n",
       "111478  F0B53A2C-98CA-415D-B928-E3FD0E52B22A_6            6   \n",
       "111479  F0B53A2C-98CA-415D-B928-E3FD0E52B22A_6            6   \n",
       "111480  F0B53A2C-98CA-415D-B928-E3FD0E52B22A_6            6   \n",
       "111481  F0B53A2C-98CA-415D-B928-E3FD0E52B22A_6            6   \n",
       "111482  F0B53A2C-98CA-415D-B928-E3FD0E52B22A_6            6   \n",
       "\n",
       "                            LabName  LabValue LabUnits  \\\n",
       "0       URINALYSIS: RED BLOOD CELLS       1.8  rbc/hpf   \n",
       "1                METABOLIC: GLUCOSE     103.3    mg/dL   \n",
       "2                          CBC: MCH      35.8       pg   \n",
       "3                METABOLIC: CALCIUM       8.9    mg/dL   \n",
       "4         CBC: RED BLOOD CELL COUNT       4.8   m/cumm   \n",
       "...                             ...       ...      ...   \n",
       "111478              CBC: HEMOGLOBIN      13.6    gm/dl   \n",
       "111479                     CBC: MCH      26.2       pg   \n",
       "111480          METABOLIC: CHLORIDE     104.4   mmol/L   \n",
       "111481           METABOLIC: GLUCOSE      63.3    mg/dL   \n",
       "111482                    CBC: MCHC      38.6     g/dl   \n",
       "\n",
       "                    LabDateTime  \n",
       "0       1992-07-01 01:36:17.910  \n",
       "1       1992-06-30 09:35:52.383  \n",
       "2       1992-06-30 03:50:11.777  \n",
       "3       1992-06-30 12:09:46.107  \n",
       "4       1992-07-01 01:31:08.677  \n",
       "...                         ...  \n",
       "111478  2012-04-21 03:23:50.883  \n",
       "111479  2012-04-21 03:18:44.127  \n",
       "111480  2012-04-21 02:58:57.840  \n",
       "111481  2012-04-21 02:50:04.503  \n",
       "111482  2012-04-21 03:27:10.293  \n",
       "\n",
       "[111483 rows x 6 columns]"
      ]
     },
     "execution_count": 93,
     "metadata": {},
     "output_type": "execute_result"
    }
   ],
   "source": [
    "labs_table"
   ]
  },
  {
   "cell_type": "code",
   "execution_count": 111,
   "metadata": {},
   "outputs": [],
   "source": [
    "labs_table = labs_table.drop('AdmissionID', axis=1)"
   ]
  },
  {
   "cell_type": "code",
   "execution_count": 112,
   "metadata": {},
   "outputs": [
    {
     "data": {
      "text/html": [
       "<div>\n",
       "<style scoped>\n",
       "    .dataframe tbody tr th:only-of-type {\n",
       "        vertical-align: middle;\n",
       "    }\n",
       "\n",
       "    .dataframe tbody tr th {\n",
       "        vertical-align: top;\n",
       "    }\n",
       "\n",
       "    .dataframe thead th {\n",
       "        text-align: right;\n",
       "    }\n",
       "</style>\n",
       "<table border=\"1\" class=\"dataframe\">\n",
       "  <thead>\n",
       "    <tr style=\"text-align: right;\">\n",
       "      <th></th>\n",
       "      <th>PatientID</th>\n",
       "      <th>LabName</th>\n",
       "      <th>LabValue</th>\n",
       "      <th>LabUnits</th>\n",
       "      <th>LabDateTime</th>\n",
       "    </tr>\n",
       "  </thead>\n",
       "  <tbody>\n",
       "    <tr>\n",
       "      <th>0</th>\n",
       "      <td>1A8791E3-A61C-455A-8DEE-763EB90C9B2C_1</td>\n",
       "      <td>URINALYSIS: RED BLOOD CELLS</td>\n",
       "      <td>1.8</td>\n",
       "      <td>rbc/hpf</td>\n",
       "      <td>1992-07-01 01:36:17.910</td>\n",
       "    </tr>\n",
       "    <tr>\n",
       "      <th>1</th>\n",
       "      <td>1A8791E3-A61C-455A-8DEE-763EB90C9B2C_1</td>\n",
       "      <td>METABOLIC: GLUCOSE</td>\n",
       "      <td>103.3</td>\n",
       "      <td>mg/dL</td>\n",
       "      <td>1992-06-30 09:35:52.383</td>\n",
       "    </tr>\n",
       "    <tr>\n",
       "      <th>2</th>\n",
       "      <td>1A8791E3-A61C-455A-8DEE-763EB90C9B2C_1</td>\n",
       "      <td>CBC: MCH</td>\n",
       "      <td>35.8</td>\n",
       "      <td>pg</td>\n",
       "      <td>1992-06-30 03:50:11.777</td>\n",
       "    </tr>\n",
       "    <tr>\n",
       "      <th>3</th>\n",
       "      <td>1A8791E3-A61C-455A-8DEE-763EB90C9B2C_1</td>\n",
       "      <td>METABOLIC: CALCIUM</td>\n",
       "      <td>8.9</td>\n",
       "      <td>mg/dL</td>\n",
       "      <td>1992-06-30 12:09:46.107</td>\n",
       "    </tr>\n",
       "    <tr>\n",
       "      <th>4</th>\n",
       "      <td>1A8791E3-A61C-455A-8DEE-763EB90C9B2C_1</td>\n",
       "      <td>CBC: RED BLOOD CELL COUNT</td>\n",
       "      <td>4.8</td>\n",
       "      <td>m/cumm</td>\n",
       "      <td>1992-07-01 01:31:08.677</td>\n",
       "    </tr>\n",
       "    <tr>\n",
       "      <th>...</th>\n",
       "      <td>...</td>\n",
       "      <td>...</td>\n",
       "      <td>...</td>\n",
       "      <td>...</td>\n",
       "      <td>...</td>\n",
       "    </tr>\n",
       "    <tr>\n",
       "      <th>111478</th>\n",
       "      <td>F0B53A2C-98CA-415D-B928-E3FD0E52B22A_6</td>\n",
       "      <td>CBC: HEMOGLOBIN</td>\n",
       "      <td>13.6</td>\n",
       "      <td>gm/dl</td>\n",
       "      <td>2012-04-21 03:23:50.883</td>\n",
       "    </tr>\n",
       "    <tr>\n",
       "      <th>111479</th>\n",
       "      <td>F0B53A2C-98CA-415D-B928-E3FD0E52B22A_6</td>\n",
       "      <td>CBC: MCH</td>\n",
       "      <td>26.2</td>\n",
       "      <td>pg</td>\n",
       "      <td>2012-04-21 03:18:44.127</td>\n",
       "    </tr>\n",
       "    <tr>\n",
       "      <th>111480</th>\n",
       "      <td>F0B53A2C-98CA-415D-B928-E3FD0E52B22A_6</td>\n",
       "      <td>METABOLIC: CHLORIDE</td>\n",
       "      <td>104.4</td>\n",
       "      <td>mmol/L</td>\n",
       "      <td>2012-04-21 02:58:57.840</td>\n",
       "    </tr>\n",
       "    <tr>\n",
       "      <th>111481</th>\n",
       "      <td>F0B53A2C-98CA-415D-B928-E3FD0E52B22A_6</td>\n",
       "      <td>METABOLIC: GLUCOSE</td>\n",
       "      <td>63.3</td>\n",
       "      <td>mg/dL</td>\n",
       "      <td>2012-04-21 02:50:04.503</td>\n",
       "    </tr>\n",
       "    <tr>\n",
       "      <th>111482</th>\n",
       "      <td>F0B53A2C-98CA-415D-B928-E3FD0E52B22A_6</td>\n",
       "      <td>CBC: MCHC</td>\n",
       "      <td>38.6</td>\n",
       "      <td>g/dl</td>\n",
       "      <td>2012-04-21 03:27:10.293</td>\n",
       "    </tr>\n",
       "  </tbody>\n",
       "</table>\n",
       "<p>111483 rows × 5 columns</p>\n",
       "</div>"
      ],
      "text/plain": [
       "                                     PatientID                      LabName  \\\n",
       "0       1A8791E3-A61C-455A-8DEE-763EB90C9B2C_1  URINALYSIS: RED BLOOD CELLS   \n",
       "1       1A8791E3-A61C-455A-8DEE-763EB90C9B2C_1           METABOLIC: GLUCOSE   \n",
       "2       1A8791E3-A61C-455A-8DEE-763EB90C9B2C_1                     CBC: MCH   \n",
       "3       1A8791E3-A61C-455A-8DEE-763EB90C9B2C_1           METABOLIC: CALCIUM   \n",
       "4       1A8791E3-A61C-455A-8DEE-763EB90C9B2C_1    CBC: RED BLOOD CELL COUNT   \n",
       "...                                        ...                          ...   \n",
       "111478  F0B53A2C-98CA-415D-B928-E3FD0E52B22A_6              CBC: HEMOGLOBIN   \n",
       "111479  F0B53A2C-98CA-415D-B928-E3FD0E52B22A_6                     CBC: MCH   \n",
       "111480  F0B53A2C-98CA-415D-B928-E3FD0E52B22A_6          METABOLIC: CHLORIDE   \n",
       "111481  F0B53A2C-98CA-415D-B928-E3FD0E52B22A_6           METABOLIC: GLUCOSE   \n",
       "111482  F0B53A2C-98CA-415D-B928-E3FD0E52B22A_6                    CBC: MCHC   \n",
       "\n",
       "        LabValue LabUnits              LabDateTime  \n",
       "0            1.8  rbc/hpf  1992-07-01 01:36:17.910  \n",
       "1          103.3    mg/dL  1992-06-30 09:35:52.383  \n",
       "2           35.8       pg  1992-06-30 03:50:11.777  \n",
       "3            8.9    mg/dL  1992-06-30 12:09:46.107  \n",
       "4            4.8   m/cumm  1992-07-01 01:31:08.677  \n",
       "...          ...      ...                      ...  \n",
       "111478      13.6    gm/dl  2012-04-21 03:23:50.883  \n",
       "111479      26.2       pg  2012-04-21 03:18:44.127  \n",
       "111480     104.4   mmol/L  2012-04-21 02:58:57.840  \n",
       "111481      63.3    mg/dL  2012-04-21 02:50:04.503  \n",
       "111482      38.6     g/dl  2012-04-21 03:27:10.293  \n",
       "\n",
       "[111483 rows x 5 columns]"
      ]
     },
     "execution_count": 112,
     "metadata": {},
     "output_type": "execute_result"
    }
   ],
   "source": [
    "labs_table"
   ]
  },
  {
   "cell_type": "code",
   "execution_count": 158,
   "metadata": {},
   "outputs": [],
   "source": [
    "# labs_table['PatientID'].tolist()"
   ]
  },
  {
   "cell_type": "code",
   "execution_count": null,
   "metadata": {},
   "outputs": [],
   "source": []
  },
  {
   "cell_type": "code",
   "execution_count": 145,
   "metadata": {},
   "outputs": [],
   "source": [
    "grouped_labs = labs_table.groupby(['PatientID', 'LabName']).aggregate(np.mean)\n",
    "# grouped_labs = labs_table.groupby(['LabName', 'PatientID']).aggregate(np.mean)\n"
   ]
  },
  {
   "cell_type": "code",
   "execution_count": 146,
   "metadata": {},
   "outputs": [
    {
     "data": {
      "text/html": [
       "<div>\n",
       "<style scoped>\n",
       "    .dataframe tbody tr th:only-of-type {\n",
       "        vertical-align: middle;\n",
       "    }\n",
       "\n",
       "    .dataframe tbody tr th {\n",
       "        vertical-align: top;\n",
       "    }\n",
       "\n",
       "    .dataframe thead th {\n",
       "        text-align: right;\n",
       "    }\n",
       "</style>\n",
       "<table border=\"1\" class=\"dataframe\">\n",
       "  <thead>\n",
       "    <tr style=\"text-align: right;\">\n",
       "      <th></th>\n",
       "      <th></th>\n",
       "      <th>LabValue</th>\n",
       "    </tr>\n",
       "    <tr>\n",
       "      <th>PatientID</th>\n",
       "      <th>LabName</th>\n",
       "      <th></th>\n",
       "    </tr>\n",
       "  </thead>\n",
       "  <tbody>\n",
       "    <tr>\n",
       "      <th rowspan=\"5\" valign=\"top\">016A590E-D093-4667-A5DA-D68EA6987D93_1</th>\n",
       "      <th>CBC: ABSOLUTE LYMPHOCYTES</th>\n",
       "      <td>21.050000</td>\n",
       "    </tr>\n",
       "    <tr>\n",
       "      <th>CBC: ABSOLUTE NEUTROPHILS</th>\n",
       "      <td>69.300000</td>\n",
       "    </tr>\n",
       "    <tr>\n",
       "      <th>CBC: BASOPHILS</th>\n",
       "      <td>0.125000</td>\n",
       "    </tr>\n",
       "    <tr>\n",
       "      <th>CBC: EOSINOPHILS</th>\n",
       "      <td>0.275000</td>\n",
       "    </tr>\n",
       "    <tr>\n",
       "      <th>CBC: HEMATOCRIT</th>\n",
       "      <td>43.500000</td>\n",
       "    </tr>\n",
       "    <tr>\n",
       "      <th>...</th>\n",
       "      <th>...</th>\n",
       "      <td>...</td>\n",
       "    </tr>\n",
       "    <tr>\n",
       "      <th rowspan=\"5\" valign=\"top\">FFCDECD6-4048-4DCB-B910-1218160005B3_3</th>\n",
       "      <th>METABOLIC: TOTAL PROTEIN</th>\n",
       "      <td>7.080000</td>\n",
       "    </tr>\n",
       "    <tr>\n",
       "      <th>URINALYSIS: PH</th>\n",
       "      <td>5.857143</td>\n",
       "    </tr>\n",
       "    <tr>\n",
       "      <th>URINALYSIS: RED BLOOD CELLS</th>\n",
       "      <td>2.137500</td>\n",
       "    </tr>\n",
       "    <tr>\n",
       "      <th>URINALYSIS: SPECIFIC GRAVITY</th>\n",
       "      <td>1.000000</td>\n",
       "    </tr>\n",
       "    <tr>\n",
       "      <th>URINALYSIS: WHITE BLOOD CELLS</th>\n",
       "      <td>2.754545</td>\n",
       "    </tr>\n",
       "  </tbody>\n",
       "</table>\n",
       "<p>13003 rows × 1 columns</p>\n",
       "</div>"
      ],
      "text/plain": [
       "                                                                       LabValue\n",
       "PatientID                              LabName                                 \n",
       "016A590E-D093-4667-A5DA-D68EA6987D93_1 CBC: ABSOLUTE LYMPHOCYTES      21.050000\n",
       "                                       CBC: ABSOLUTE NEUTROPHILS      69.300000\n",
       "                                       CBC: BASOPHILS                  0.125000\n",
       "                                       CBC: EOSINOPHILS                0.275000\n",
       "                                       CBC: HEMATOCRIT                43.500000\n",
       "...                                                                         ...\n",
       "FFCDECD6-4048-4DCB-B910-1218160005B3_3 METABOLIC: TOTAL PROTEIN        7.080000\n",
       "                                       URINALYSIS: PH                  5.857143\n",
       "                                       URINALYSIS: RED BLOOD CELLS     2.137500\n",
       "                                       URINALYSIS: SPECIFIC GRAVITY    1.000000\n",
       "                                       URINALYSIS: WHITE BLOOD CELLS   2.754545\n",
       "\n",
       "[13003 rows x 1 columns]"
      ]
     },
     "execution_count": 146,
     "metadata": {},
     "output_type": "execute_result"
    }
   ],
   "source": [
    "grouped_labs"
   ]
  },
  {
   "cell_type": "code",
   "execution_count": 160,
   "metadata": {},
   "outputs": [],
   "source": [
    "# grouped_labs['PatientID'].tolist()"
   ]
  },
  {
   "cell_type": "code",
   "execution_count": 161,
   "metadata": {},
   "outputs": [
    {
     "data": {
      "text/plain": [
       "('016A590E-D093-4667-A5DA-D68EA6987D93_1', 'CBC: ABSOLUTE LYMPHOCYTES')"
      ]
     },
     "execution_count": 161,
     "metadata": {},
     "output_type": "execute_result"
    }
   ],
   "source": [
    "grouped_labs['LabValue'].keys()[0]"
   ]
  },
  {
   "cell_type": "code",
   "execution_count": null,
   "metadata": {},
   "outputs": [],
   "source": []
  },
  {
   "cell_type": "code",
   "execution_count": 410,
   "metadata": {},
   "outputs": [],
   "source": [
    "# labs_dict.keys() # checking if it returns in order"
   ]
  },
  {
   "cell_type": "code",
   "execution_count": 476,
   "metadata": {},
   "outputs": [
    {
     "data": {
      "text/plain": [
       "{'pat 1': [1, 2, 3]}"
      ]
     },
     "execution_count": 476,
     "metadata": {},
     "output_type": "execute_result"
    }
   ],
   "source": [
    "from collections import defaultdict\n",
    "labs_dict = defaultdict(list)\n",
    "labs_dict = {'pat 1':[1, 2, 3]}\n",
    "labs_dict"
   ]
  },
  {
   "cell_type": "code",
   "execution_count": 477,
   "metadata": {},
   "outputs": [
    {
     "data": {
      "text/plain": [
       "dict_keys(['pat 1'])"
      ]
     },
     "execution_count": 477,
     "metadata": {},
     "output_type": "execute_result"
    }
   ],
   "source": [
    "labs_dict.keys()"
   ]
  },
  {
   "cell_type": "code",
   "execution_count": 478,
   "metadata": {},
   "outputs": [],
   "source": [
    "for label, value in grouped_labs.iterrows():\n",
    "\n",
    "    patient_id = label[0]\n",
    "    \n",
    "    if patient_id in labs_dict.keys():\n",
    "        # print(patient_id + ' already exists')\n",
    "        labs_dict[patient_id].append(value[0])\n",
    "    else:\n",
    "        \n",
    "        labs_dict[patient_id] = []\n",
    "        labs_dict[patient_id].append(value[0])\n"
   ]
  },
  {
   "cell_type": "code",
   "execution_count": 480,
   "metadata": {},
   "outputs": [],
   "source": [
    "# labs_dict"
   ]
  },
  {
   "cell_type": "code",
   "execution_count": 470,
   "metadata": {},
   "outputs": [
    {
     "data": {
      "text/plain": [
       "373"
      ]
     },
     "execution_count": 470,
     "metadata": {},
     "output_type": "execute_result"
    }
   ],
   "source": [
    "len(labs_dict.keys())"
   ]
  },
  {
   "cell_type": "code",
   "execution_count": 328,
   "metadata": {},
   "outputs": [],
   "source": []
  },
  {
   "cell_type": "markdown",
   "metadata": {},
   "source": [
    "# COMPARISON LOGIC"
   ]
  },
  {
   "cell_type": "code",
   "execution_count": 474,
   "metadata": {},
   "outputs": [],
   "source": [
    "def Nmaxelements(list1, N):\n",
    "    final_list = []\n",
    "  \n",
    "    for i in range(0, N): \n",
    "        max1 = 0\n",
    "          \n",
    "        for j in range(len(list1)):     \n",
    "            if list1[j] > max1:\n",
    "                max1 = list1[j];\n",
    "                  \n",
    "        list1.remove(max1);\n",
    "        final_list.append(max1)\n",
    "          \n",
    "    print(final_list)\n"
   ]
  },
  {
   "cell_type": "code",
   "execution_count": 475,
   "metadata": {},
   "outputs": [],
   "source": [
    "def compare_similar(new_patient_labs):\n",
    "\n",
    "    sim_scores = []\n",
    "\n",
    "    for patient in labs_dict:\n",
    "                \n",
    "        sim_score = 1 - np.mean(abs((labs_dict[patient] - new_patient_labs)))\n",
    "        sim_scores.append(sim_score)\n",
    "        \n",
    "    Nmaxelements(sim_scores, 5)\n",
    "        "
   ]
  },
  {
   "cell_type": "markdown",
   "metadata": {},
   "source": [
    "# SETTING UP UI"
   ]
  },
  {
   "cell_type": "code",
   "execution_count": null,
   "metadata": {},
   "outputs": [],
   "source": [
    "def show_instructions():\n",
    "    \n",
    "    popup('Welcome.', [\n",
    "    put_html('Please download an Electronic Health Record Template for CBC, Metabolic, and Urinalysis Lab Results. Once you upload your patient\\'s records, you will receive a diagnosis suggestion based on 5 patients with the most similar medical history.'),\n",
    "        \n",
    "    put_file(name='CBC Lab Results', content=b'Absolute Lymphocytes:\\nAbsolute Neutrophil:\\nBasophils:\\nEosinophils:\\nHematocrit:\\nHemoglobin:\\nLymphocytes:\\nMCH:\\nMCHC:\\nMean Corpuscular Volume:\\nMonocytes:\\nNeutrophils:\\nPlatelet Count:\\nRDW:\\nRed Blood Cell Count:\\nWhite Blood Cell Count:', label='Download CBC Lab Results Template'),\n",
    "    put_file(name='Metabolic Lab Results', content=b'Albumin:\\nALK PHOS:\\nALT/SGPT:\\nANION GAP:\\nAST/SGOT:\\nBILI Total:\\nBUN:\\nCalcium\\nCarbon Dioxide:\\nChloride:\\nCreatinine:\\nGlucose:\\nPotassium:\\nSodium:\\nTotal Protein:', label='Download Metabolic Lab Results Template'),\n",
    "    put_file(name='Urinalysis Lab Results', content=b'pH:\\nRed Blood Cells:\\nSpecific Gravity:\\nWhite Blood Cells:', label='Download Urinalysis Lab Results Template'),\n",
    "\n",
    "    put_button('Got it!', onclick=close_popup)])"
   ]
  },
  {
   "cell_type": "code",
   "execution_count": null,
   "metadata": {},
   "outputs": [],
   "source": [
    "def show_tests(btn_val):\n",
    "    \n",
    "    if btn_val == 'CBC':\n",
    "        cbc_lab_results_file = file_upload(\"Patient's CBC Lab Results:\", accept=\"txt/*\")\n",
    "\n",
    "    if btn_val == 'Metabolic':\n",
    "        metabolic_lab_results_file = file_upload(\"Patient's Metabolic Lab Results:\", accept=\"txt/*\")\n",
    "\n",
    "    if btn_val == 'Urinalysis':\n",
    "        urinalysis_lab_results_file = file_upload(\"Patient's Urinalysis Lab Results:\", accept=\"txt/*\")\n",
    "\n",
    "    \n",
    "     # cbc_lab_results_file = file_upload(\"Patient's CBC Lab Results:\", accept=\"txt/*\")\n",
    "    # metabolic_lab_results_file = file_upload(\"Patient's Metabolic Lab Results:\", accept=\"txt/*\")\n",
    "    # urinalysis_lab_results_file = file_upload(\"Patient's Urinalysis Lab Results:\", accept=\"txt/*\")\n"
   ]
  },
  {
   "cell_type": "code",
   "execution_count": null,
   "metadata": {},
   "outputs": [],
   "source": [
    "cbc_labs = []\n",
    "metabolic_labs = []\n",
    "urinalysis_lab = []\n",
    "\n",
    "def read_labs(cbc_labs_fn, metabolic_labs_fn, urinalysis_labs_fn): \n",
    "    \n",
    "    with open(cbc_labs_fn) as cbc_f:\n",
    "        for line in cbc_f:\n",
    "            print(line.split(':')[1]) # lab value\n",
    "            string_val = line.split(':')[1]\n",
    "            cbc_labs.append(float(string_val))\n",
    "            \n",
    "    with open(metabolic_labs_fn) as metabolic_f:\n",
    "        for line in metabolic_f:\n",
    "            print(line.split(':')[1]) # lab value\n",
    "            string_val = line.split(':')[1]\n",
    "            metabolic_labs.append(float(string_val))\n",
    "            \n",
    "    with open(urinalysis_labs_fn) as urinalysis_f:\n",
    "        for line in urinalysis_f:\n",
    "            print(line.split(':')[1]) # lab value\n",
    "            string_val = line.split(':')[1]\n",
    "            urinalysis_lab.append(float(string_val))\n",
    "    "
   ]
  },
  {
   "cell_type": "code",
   "execution_count": null,
   "metadata": {},
   "outputs": [],
   "source": [
    "read_labs('test results.txt', 'test results.txt', 'test results.txt')"
   ]
  },
  {
   "cell_type": "code",
   "execution_count": null,
   "metadata": {},
   "outputs": [],
   "source": [
    "cbc_labs"
   ]
  },
  {
   "cell_type": "code",
   "execution_count": null,
   "metadata": {},
   "outputs": [],
   "source": [
    "metabolic_labs"
   ]
  },
  {
   "cell_type": "code",
   "execution_count": null,
   "metadata": {},
   "outputs": [],
   "source": [
    "urinalysis_lab"
   ]
  },
  {
   "cell_type": "code",
   "execution_count": null,
   "metadata": {},
   "outputs": [],
   "source": [
    "def compare_similar(cbc_labs, metabolic_labs, urinalysis_lab):\n",
    "    "
   ]
  },
  {
   "cell_type": "code",
   "execution_count": null,
   "metadata": {},
   "outputs": [],
   "source": [
    "def analyze():\n",
    "    print('analyzing')"
   ]
  },
  {
   "cell_type": "code",
   "execution_count": null,
   "metadata": {},
   "outputs": [],
   "source": [
    "def welcome():\n",
    "    \n",
    "    # show_instructions()\n",
    "    \n",
    "    popup('Welcome.', [\n",
    "    put_html('Please click on a lab test to enter specific results. Once you submit these values, you will receive a diagnosis suggestion based on 5 patients with the most similar medical history.'),\n",
    "        \n",
    "    put_file(name='CBC Lab Results', content=b'Absolute Lymphocytes:\\nAbsolute Neutrophil:\\nBasophils:\\nEosinophils:\\nHematocrit:\\nHemoglobin:\\nLymphocytes:\\nMCH:\\nMCHC:\\nMean Corpuscular Volume:\\nMonocytes:\\nNeutrophils:\\nPlatelet Count:\\nRDW:\\nRed Blood Cell Count:\\nWhite Blood Cell Count:', label='Download CBC Lab Results Template'),\n",
    "    put_file(name='Metabolic Lab Results', content=b'Albumin:\\nALK PHOS:\\nALT/SGPT:\\nANION GAP:\\nAST/SGOT:\\nBILI Total:\\nBUN:\\nCalcium\\nCarbon Dioxide:\\nChloride:\\nCreatinine:\\nGlucose:\\nPotassium:\\nSodium:\\nTotal Protein:', label='Download Metabolic Lab Results Template'),\n",
    "    put_file(name='Urinalysis Lab Results', content=b'pH:\\nRed Blood Cells:\\nSpecific Gravity:\\nWhite Blood Cells:', label='Download Urinalysis Lab Results Template'),\n",
    "\n",
    "    put_button('Got it!', onclick=close_popup)])\n",
    "    \n",
    "    \n",
    "    \n",
    "    txt = put_text('Please click on a lab test to enter specific results. Once you submit these values, you will receive a diagnosis suggestion based on 5 patients with the most similar medical history.')    \n",
    "\n",
    "    \n",
    "    put_buttons(['CBC', 'Metabolic', 'Urinalysis'], onclick=show_tests)\n",
    "    \n",
    "    put_button('Begin Analysis', onclick=analyze)"
   ]
  },
  {
   "cell_type": "code",
   "execution_count": null,
   "metadata": {},
   "outputs": [],
   "source": []
  },
  {
   "cell_type": "code",
   "execution_count": null,
   "metadata": {},
   "outputs": [],
   "source": [
    "if __name__ == '__main__':\n",
    "    welcome()"
   ]
  },
  {
   "cell_type": "code",
   "execution_count": null,
   "metadata": {},
   "outputs": [],
   "source": []
  },
  {
   "cell_type": "code",
   "execution_count": null,
   "metadata": {},
   "outputs": [],
   "source": []
  },
  {
   "cell_type": "code",
   "execution_count": null,
   "metadata": {},
   "outputs": [],
   "source": []
  }
 ],
 "metadata": {
  "kernelspec": {
   "display_name": "Python 3",
   "language": "python",
   "name": "python3"
  },
  "language_info": {
   "codemirror_mode": {
    "name": "ipython",
    "version": 3
   },
   "file_extension": ".py",
   "mimetype": "text/x-python",
   "name": "python",
   "nbconvert_exporter": "python",
   "pygments_lexer": "ipython3",
   "version": "3.8.5"
  }
 },
 "nbformat": 4,
 "nbformat_minor": 4
}
