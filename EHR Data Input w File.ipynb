{
 "cells": [
  {
   "cell_type": "code",
   "execution_count": null,
   "metadata": {},
   "outputs": [],
   "source": [
    "from pywebio.input import input, FLOAT\n",
    "from pywebio.output import put_text\n",
    "\n",
    "from pywebio.input import *\n",
    "from pywebio.output import *\n",
    "\n",
    "from pywebio.input import *"
   ]
  },
  {
   "cell_type": "code",
   "execution_count": null,
   "metadata": {},
   "outputs": [],
   "source": [
    "def welcome():\n",
    "    \n",
    "    # popup('Welcome.', [\n",
    "    # put_html('Please click on a lab test to enter specific results. Once you submit these values, you will receive a diagnosis suggestion based on 5 patients with the most similar medical history.'),\n",
    "    \n",
    "    put_file(name='CBC Lab Results', content=b'Absolute Lymphocytes:\\nAbsolute Neutrophil:', label='Download')\n",
    "        \n",
    "    # put_button('Got it!', onclick=close_popup)])\n",
    "    \n",
    "    \n",
    "    \n",
    "    "
   ]
  },
  {
   "cell_type": "code",
   "execution_count": null,
   "metadata": {},
   "outputs": [],
   "source": [
    "if __name__ == '__main__':\n",
    "    welcome()"
   ]
  },
  {
   "cell_type": "code",
   "execution_count": null,
   "metadata": {},
   "outputs": [],
   "source": []
  },
  {
   "cell_type": "code",
   "execution_count": null,
   "metadata": {},
   "outputs": [],
   "source": []
  },
  {
   "cell_type": "code",
   "execution_count": null,
   "metadata": {},
   "outputs": [],
   "source": []
  }
 ],
 "metadata": {
  "kernelspec": {
   "display_name": "Python 3",
   "language": "python",
   "name": "python3"
  },
  "language_info": {
   "codemirror_mode": {
    "name": "ipython",
    "version": 3
   },
   "file_extension": ".py",
   "mimetype": "text/x-python",
   "name": "python",
   "nbconvert_exporter": "python",
   "pygments_lexer": "ipython3",
   "version": "3.8.5"
  }
 },
 "nbformat": 4,
 "nbformat_minor": 4
}
