{
 "cells": [
  {
   "cell_type": "code",
   "execution_count": 1,
   "metadata": {},
   "outputs": [],
   "source": [
    "from pywebio.input import input, FLOAT\n",
    "from pywebio.output import put_text\n",
    "from pywebio.input import *\n",
    "from pywebio.output import *\n",
    "\n",
    "import pandas as pd\n",
    "import numpy as np\n",
    "import seaborn as sns\n",
    "import matplotlib.pyplot as plt\n",
    "import sklearn\n",
    "from sklearn.model_selection import train_test_split \n",
    "\n",
    "from sklearn.linear_model import LogisticRegression\n",
    "from sklearn.tree import DecisionTreeClassifier \n",
    "from sklearn.neighbors import KNeighborsClassifier\n",
    "from sklearn.metrics import plot_confusion_matrix\n",
    "\n",
    "from heapq import nlargest\n"
   ]
  },
  {
   "cell_type": "code",
   "execution_count": null,
   "metadata": {},
   "outputs": [],
   "source": []
  },
  {
   "cell_type": "code",
   "execution_count": null,
   "metadata": {},
   "outputs": [],
   "source": []
  },
  {
   "cell_type": "code",
   "execution_count": 2,
   "metadata": {},
   "outputs": [],
   "source": [
    "def readFile(diag_fn, labs_fn, core_fn):\n",
    "    diag_file = open(diag_fn)\n",
    "    labs_fn = open(labs_fn)\n",
    "    core_file = open(core_fn)\n",
    "    \n",
    "    diagnosis_admissions_table = pd.read_table(diag_fn)\n",
    "    \n",
    "    labs_table = pd.read_table(labs_fn)\n",
    "    labs_table['PatientID'] =  labs_table['PatientID'] # + '_' + labs_table['AdmissionID'].astype(str)\n",
    "            \n",
    "    core_table = pd.read_table(core_file)\n",
    "    \n",
    "    return diagnosis_admissions_table, labs_table, core_table"
   ]
  },
  {
   "cell_type": "code",
   "execution_count": 3,
   "metadata": {},
   "outputs": [],
   "source": [
    "diag_table, labs_table, core_table = readFile('AdmissionsDiagnosesCorePopulatedTable_100_new.txt', 'LabsCorePopulatedTable_100_new.txt', 'PatientCorePopulatedTable_100_new.txt')\n",
    "\n"
   ]
  },
  {
   "cell_type": "code",
   "execution_count": 4,
   "metadata": {},
   "outputs": [],
   "source": [
    "labs_table = labs_table.drop('AdmissionID', axis=1)"
   ]
  },
  {
   "cell_type": "code",
   "execution_count": 5,
   "metadata": {},
   "outputs": [],
   "source": [
    "grouped_labs = labs_table.groupby(['PatientID', 'LabName']).aggregate(np.mean)"
   ]
  },
  {
   "cell_type": "code",
   "execution_count": 6,
   "metadata": {},
   "outputs": [],
   "source": [
    "labs_dict = {'pat 1':[1, 2, 3]}"
   ]
  },
  {
   "cell_type": "code",
   "execution_count": 7,
   "metadata": {},
   "outputs": [],
   "source": [
    "for label, value in grouped_labs.iterrows():\n",
    "\n",
    "    patient_id = label[0]\n",
    "    \n",
    "    if patient_id in labs_dict.keys():\n",
    "        # print(patient_id + ' already exists')\n",
    "        labs_dict[patient_id].append(value[0])\n",
    "    else:\n",
    "        \n",
    "        labs_dict[patient_id] = []\n",
    "        labs_dict[patient_id].append(value[0])\n"
   ]
  },
  {
   "cell_type": "code",
   "execution_count": 8,
   "metadata": {},
   "outputs": [
    {
     "data": {
      "text/plain": [
       "101"
      ]
     },
     "execution_count": 8,
     "metadata": {},
     "output_type": "execute_result"
    }
   ],
   "source": [
    "len(labs_dict.keys())"
   ]
  },
  {
   "cell_type": "code",
   "execution_count": null,
   "metadata": {},
   "outputs": [],
   "source": []
  },
  {
   "cell_type": "code",
   "execution_count": null,
   "metadata": {},
   "outputs": [],
   "source": []
  },
  {
   "cell_type": "code",
   "execution_count": null,
   "metadata": {},
   "outputs": [],
   "source": []
  },
  {
   "cell_type": "code",
   "execution_count": 9,
   "metadata": {},
   "outputs": [],
   "source": [
    "def show_instructions():\n",
    "    \n",
    "    popup('Welcome.', [\n",
    "    put_html('Please download an Electronic Health Record Template for CBC, Metabolic, and Urinalysis Lab Results. Once you upload your patient\\'s records, you will receive a diagnosis suggestion based on 5 patients with the most similar medical history.'),\n",
    "        \n",
    "    put_file(name='CBC Lab Results', content=b'Absolute Lymphocytes:\\nAbsolute Neutrophil:\\nBasophils:\\nEosinophils:\\nHematocrit:\\nHemoglobin:\\nLymphocytes:\\nMCH:\\nMCHC:\\nMean Corpuscular Volume:\\nMonocytes:\\nNeutrophils:\\nPlatelet Count:\\nRDW:\\nRed Blood Cell Count:\\nWhite Blood Cell Count:', label='Download CBC Lab Results Template'),\n",
    "    put_file(name='Metabolic Lab Results', content=b'Albumin:\\nALK PHOS:\\nALT/SGPT:\\nANION GAP:\\nAST/SGOT:\\nBILI Total:\\nBUN:\\nCalcium\\nCarbon Dioxide:\\nChloride:\\nCreatinine:\\nGlucose:\\nPotassium:\\nSodium:\\nTotal Protein:', label='Download Metabolic Lab Results Template'),\n",
    "    put_file(name='Urinalysis Lab Results', content=b'pH:\\nRed Blood Cells:\\nSpecific Gravity:\\nWhite Blood Cells:', label='Download Urinalysis Lab Results Template'),\n",
    "\n",
    "    put_button('Got it!', onclick=close_popup)])"
   ]
  },
  {
   "cell_type": "code",
   "execution_count": 10,
   "metadata": {},
   "outputs": [],
   "source": [
    "# VARIABLES\n",
    "\n",
    "cbc_results_file = None\n",
    "metab_results_file = None\n",
    "uri_results_file = None\n",
    "\n",
    "cbc_labs = []\n",
    "metabolic_labs = []\n",
    "urinalysis_lab = []\n",
    "\n",
    "file_names = []"
   ]
  },
  {
   "cell_type": "code",
   "execution_count": 11,
   "metadata": {},
   "outputs": [],
   "source": [
    "# ---- NOT USING RN ----\n",
    "\n",
    "def show_upload_tests(btn_val):\n",
    "    \n",
    "    if btn_val == 'CBC':\n",
    "        f = file_upload(\"Patient's CBC Lab Results:\", accept=\"txt/*\", multiple=False)\n",
    "        cbc_results_file = f['filename']\n",
    "        # print('... uploading cbc...')\n",
    "        \n",
    "    if btn_val == 'Metabolic':\n",
    "        f = file_upload(\"Patient's Metabolic Lab Results:\", accept=\"txt/*\", multiple=False)['filename']\n",
    "        metab_results_file = f['filename']\n",
    "        # print('... uploading metab...')\n",
    "        \n",
    "    if btn_val == 'Urinalysis':\n",
    "        f = file_upload(\"Patient's Urinalysis Lab Results:\", accept=\"txt/*\", multiple=False)['filename']\n",
    "        uri_results_file = f['filename']\n",
    "        # print('... uploading uri...')\n",
    "        "
   ]
  },
  {
   "cell_type": "code",
   "execution_count": 12,
   "metadata": {},
   "outputs": [],
   "source": [
    "\n",
    "\n",
    "def read_labs(cbc_labs_fn, metabolic_labs_fn, urinalysis_labs_fn): \n",
    "        \n",
    "    with open(str(cbc_labs_fn)) as cbc_f:\n",
    "        for line in cbc_f:\n",
    "            # print(line.split(':')[1]) # lab value\n",
    "            string_val = line.split(':')[1]\n",
    "            cbc_labs.append(float(string_val))\n",
    "            \n",
    "    with open(metabolic_labs_fn) as metabolic_f:\n",
    "        for line in metabolic_f:\n",
    "            # print(line.split(':')[1]) # lab value\n",
    "            string_val = line.split(':')[1]\n",
    "            metabolic_labs.append(float(string_val))\n",
    "            \n",
    "    with open(urinalysis_labs_fn) as urinalysis_f:\n",
    "        for line in urinalysis_f:\n",
    "            # print(line.split(':')[1]) # lab value\n",
    "            string_val = line.split(':')[1]\n",
    "            urinalysis_lab.append(float(string_val))"
   ]
  },
  {
   "cell_type": "code",
   "execution_count": 13,
   "metadata": {},
   "outputs": [],
   "source": [
    "def combine_all_labs(cbc_labs, metab_labs, uri_labs):\n",
    "    \n",
    "    all_labs = []\n",
    "    \n",
    "    for elem in cbc_labs:\n",
    "        all_labs.append(elem)\n",
    "        \n",
    "    for elem in metab_labs:\n",
    "        all_labs.append(elem)\n",
    "        \n",
    "    for elem in uri_labs:\n",
    "        all_labs.append(elem)\n",
    "        \n",
    "    return all_labs"
   ]
  },
  {
   "cell_type": "code",
   "execution_count": 14,
   "metadata": {},
   "outputs": [],
   "source": [
    "def compare_similar(new_patient_labs):\n",
    "\n",
    "    sim_scores = {}\n",
    "\n",
    "    for patient in labs_dict:\n",
    "          \n",
    "        db_pat_labs = np.array(labs_dict[patient])\n",
    "        new_pat_labs = np.array(new_patient_labs)\n",
    "        \n",
    "        \n",
    "        if(len(db_pat_labs) == len(new_pat_labs)):\n",
    "            sim_score = np.mean(abs(db_pat_labs-new_pat_labs))\n",
    "            sim_scores[patient] = sim_score\n",
    "        \n",
    "       \n",
    "        # --- sim_score = np.mean(abs(db_pat_labs-new_pat_labs))\n",
    "        # sim_score = 1 - np.mean(abs((np.array(labs_dict[patient]) - np.array(new_patient_labs))))\n",
    "        # --- sim_scores[patient] = sim_score\n",
    "        # print(len(labs_dict[patient]))\n",
    "        # print(len(new_patient_labs))\n",
    "        \n",
    "        # print(sim_score)\n",
    "        \n",
    "    # return Nmaxelements(sim_scores, 5) # 5 most similar scores\n",
    "    return sim_scores\n",
    "        "
   ]
  },
  {
   "cell_type": "code",
   "execution_count": 15,
   "metadata": {},
   "outputs": [],
   "source": [
    "\n",
    "\n",
    "def show_upload_options():\n",
    "    files = file_upload(\"Upload labs:\", accept=\"text/*\", multiple=True)\n",
    "    for file in files:\n",
    "        file_names.append(file['filename'])\n",
    "            \n",
    "            \n",
    "    for file in file_names:\n",
    "        if 'cbc' in file:\n",
    "            cbc_results_file = file\n",
    "        if 'metab' in file:\n",
    "            metab_results_file = file    \n",
    "        if 'uri' in file:\n",
    "            uri_results_file = file\n",
    "    \n",
    "    return cbc_results_file, metab_results_file, uri_results_file\n",
    "    print(cbc_results_file + ', ' + metab_results_file + ', ' + uri_results_file)"
   ]
  },
  {
   "cell_type": "code",
   "execution_count": null,
   "metadata": {},
   "outputs": [],
   "source": []
  },
  {
   "cell_type": "code",
   "execution_count": 16,
   "metadata": {},
   "outputs": [],
   "source": [
    "def help_decide():\n",
    "    \n",
    "    disease = input(\"What condition do you predict your patient has?\")\n",
    "    print(disease)\n",
    "    \n",
    "    "
   ]
  },
  {
   "cell_type": "code",
   "execution_count": 17,
   "metadata": {},
   "outputs": [],
   "source": [
    "def do_more(num):\n",
    "    print('doing more')\n",
    "    print(num)\n",
    "    \n",
    "    put_text(num)\n"
   ]
  },
  {
   "cell_type": "code",
   "execution_count": 18,
   "metadata": {},
   "outputs": [],
   "source": [
    "with use_scope('scope'):\n",
    "    put_text('create scope')\n",
    "    "
   ]
  },
  {
   "cell_type": "code",
   "execution_count": 19,
   "metadata": {},
   "outputs": [],
   "source": [
    "def show_info(index, most_sim_patients, infos, rec):\n",
    "    \n",
    "    with use_scope('scope', clear=True): # enter the existing scope and clear the\n",
    "        \n",
    "        put_text(most_sim_patients[index])\n",
    "        put_text(str(scores_dict[most_sim_patients[index]]) + '% similar')\n",
    "        put_text(infos[index])\n",
    "        put_text(rec)\n",
    "        #put_code(most_sim_patients[2] + ' - ' + str(scores_dict[most_sim_patients[2]]) + '% similarity\\n' + infos[2] + '\\n' + recs3)\n"
   ]
  },
  {
   "cell_type": "code",
   "execution_count": null,
   "metadata": {},
   "outputs": [],
   "source": []
  },
  {
   "cell_type": "code",
   "execution_count": null,
   "metadata": {},
   "outputs": [],
   "source": []
  },
  {
   "cell_type": "code",
   "execution_count": 20,
   "metadata": {},
   "outputs": [],
   "source": [
    "if __name__ == '__main__':\n",
    "    \n",
    "    show_instructions()\n",
    "    \n",
    "    txt = put_text('Please click on a lab test to enter specific results. Once you submit these values, you will receive a diagnosis suggestion based on 5 patients with the most similar medical history.')    \n",
    "\n",
    "    # put_buttons(['CBC', 'Metabolic', 'Urinalysis'], onclick=show_upload_tests)\n",
    "    cbc, metab, uri = show_upload_options()\n",
    "    \n",
    "    put_button('Help me decide if my diagnosis is reliable.', onclick=help_decide, color='secondary')\n",
    "    \n",
    "    read_labs(cbc, metab, uri)\n",
    "    # read_labs(cbc_results_file, metab_results_file, uri_results_file)\n",
    "    \n",
    "    all_new_pat_labs = combine_all_labs(cbc_labs, metabolic_labs, urinalysis_lab)\n",
    "    scores_dict = compare_similar(all_new_pat_labs)\n",
    "    # print(scores_dict)\n",
    "    \n",
    "    most_sim_patients = nlargest(6, scores_dict, key = scores_dict.get)\n",
    "    # print(most_sim_patients)\n",
    "    \n",
    "    \n",
    "    doc_recoms = {}\n",
    "    infos = []\n",
    "    \n",
    "    put_markdown('**You can patients with the highest similarity below.**')\n",
    "    \n",
    "    for pat_id in most_sim_patients:\n",
    "        \n",
    "        core_index = list(core_table[core_table['PatientID'] == str(pat_id)].index)[0]\n",
    "        # print(core_index)\n",
    "        \n",
    "        recoms = []\n",
    "        # print(pat_id + ':')\n",
    "        # put_text(pat_id + ': ' + core_table.loc[core_index]['PatientRace'] + ', ' + core_table.loc[core_index]['PatientGender'])\n",
    "        infos.append(core_table.loc[core_index]['PatientRace'] + ', ' + core_table.loc[core_index]['PatientGender'])\n",
    "        \n",
    "        diag_indexes = list(diag_table[diag_table['PatientID'] == str(pat_id)].index)\n",
    "        \n",
    "        for index in diag_indexes:\n",
    "            \n",
    "            rec = diag_table.loc[index]['PrimaryDiagnosisDescription']\n",
    "            recoms.append(rec)\n",
    "            \n",
    "            # put_text(rec)\n",
    "            \n",
    "        # put_text('\\n')\n",
    "        \n",
    "        doc_recoms[pat_id] = recoms\n",
    "        \n",
    "        \n",
    "        \n",
    "    \n",
    "    \n",
    "    # put_column([\n",
    "        # put_text(scores_dict[pat_id]),\n",
    "        # put_text(core_table.loc[core_index]['PatientRace']),\n",
    "        # put_code(core_table.loc[core_index]['PatientGender'])\n",
    "    # ])\n",
    "    \n",
    "    recs1 = \"\"\n",
    "    recs2 = \"\"\n",
    "    recs3 = \"\"\n",
    "    recs4 = \"\"\n",
    "    recs5 = \"\"\n",
    "    recs6 = \"\"\n",
    "    \n",
    "    for pat_id in doc_recoms:\n",
    "        \n",
    "        for i in range(5):\n",
    "        \n",
    "            if pat_id == most_sim_patients[i]:\n",
    "                for rec in doc_recoms[pat_id]:\n",
    "                    if i==0: recs1 += rec + '\\n'\n",
    "                    if i==1: recs2 += rec + '\\n'\n",
    "                    if i==2: recs3 += rec + '\\n'\n",
    "                    if i==3: recs4 += rec + '\\n'\n",
    "                    if i==4: recs5 += rec + '\\n'\n",
    "                    if i==5: recs6 += rec + '\\n'\n",
    "\n",
    "    put_column([\n",
    "        put_row([\n",
    "            put_button('Patient with ' + str(scores_dict[most_sim_patients[0]]) + '% similarity', onclick=(lambda: show_info(0, most_sim_patients, infos, recs1)), color='info'), None, # show_info(0, most_sim_patients, infos, recs1), color='info')\n",
    "            put_button('Patient with ' + str(scores_dict[most_sim_patients[1]]) + '% similarity', onclick=(lambda: show_info(1, most_sim_patients, infos, recs2)), color='info'), None,\n",
    "            put_button('Patient with ' + str(scores_dict[most_sim_patients[2]]) + '% similarity', onclick=(lambda: show_info(2, most_sim_patients, infos, recs3)), color='info')\n",
    "\n",
    "        ])\n",
    "    ])\n",
    "    \n",
    "    put_column([\n",
    "        put_row([\n",
    "            put_button('Patient with ' + str(scores_dict[most_sim_patients[3]]) + '% similarity', onclick=(lambda: show_info(3, most_sim_patients, infos, recs4)), color='info'), None,\n",
    "            put_button('Patient with ' + str(scores_dict[most_sim_patients[4]]) + '% similarity', onclick=(lambda: show_info(4, most_sim_patients, infos, recs5)), color='info'), None,\n",
    "            put_button('Patient with ' + str(scores_dict[most_sim_patients[5]]) + '% similarity', onclick=(lambda: show_info(5, most_sim_patients, infos, recs6)), color='info')\n",
    "        ])\n",
    "    ])\n",
    "   \n",
    "    #put_row([\n",
    "        #put_code(most_sim_patients[0] + ' - ' + str(scores_dict[most_sim_patients[0]]) + '% similarity\\n' + infos[0] + '\\n' + recs1)\n",
    "    #])   \n",
    "    \n",
    "    #put_row([\n",
    "        #put_code(most_sim_patients[1] + ' - ' + str(scores_dict[most_sim_patients[1]]) + '% similarity\\n' + infos[1] + '\\n' + recs2)\n",
    "    #])\n",
    "    #put_row([\n",
    "        #put_code(most_sim_patients[2] + ' - ' + str(scores_dict[most_sim_patients[2]]) + '% similarity\\n' + infos[2] + '\\n' + recs3)\n",
    "    #])\n",
    "    #put_row([\n",
    "        #put_code(most_sim_patients[3] + ' - ' + str(scores_dict[most_sim_patients[3]]) + '% similarity\\n' + infos[3] + '\\n' + recs4)\n",
    "    #])\n",
    "    #put_row([\n",
    "        #put_code(most_sim_patients[4] + ' - ' + str(scores_dict[most_sim_patients[4]]) + '% similarity\\n' + infos[4] + '\\n' + recs5)\n",
    "    #])\n",
    "    #put_row([\n",
    "        #put_code(most_sim_patients[5] + ' - ' + str(scores_dict[most_sim_patients[5]]) + '% similarity\\n' + infos[5] + '\\n' + recs6)\n",
    "    #])\n",
    "    \n",
    "    \n",
    "\n",
    "    "
   ]
  },
  {
   "cell_type": "code",
   "execution_count": 21,
   "metadata": {},
   "outputs": [
    {
     "data": {
      "text/plain": [
       "''"
      ]
     },
     "execution_count": 21,
     "metadata": {},
     "output_type": "execute_result"
    }
   ],
   "source": [
    "recs6"
   ]
  },
  {
   "cell_type": "code",
   "execution_count": 22,
   "metadata": {},
   "outputs": [
    {
     "data": {
      "text/plain": [
       "'Unknown'"
      ]
     },
     "execution_count": 22,
     "metadata": {},
     "output_type": "execute_result"
    }
   ],
   "source": [
    "core_table.loc[9]['PatientRace']"
   ]
  },
  {
   "cell_type": "code",
   "execution_count": 23,
   "metadata": {},
   "outputs": [
    {
     "data": {
      "text/plain": [
       "63"
      ]
     },
     "execution_count": 23,
     "metadata": {},
     "output_type": "execute_result"
    }
   ],
   "source": [
    "core_index"
   ]
  },
  {
   "cell_type": "code",
   "execution_count": null,
   "metadata": {},
   "outputs": [],
   "source": []
  },
  {
   "cell_type": "code",
   "execution_count": null,
   "metadata": {},
   "outputs": [],
   "source": []
  },
  {
   "cell_type": "code",
   "execution_count": null,
   "metadata": {},
   "outputs": [],
   "source": []
  },
  {
   "cell_type": "code",
   "execution_count": null,
   "metadata": {},
   "outputs": [],
   "source": []
  },
  {
   "cell_type": "code",
   "execution_count": null,
   "metadata": {},
   "outputs": [],
   "source": []
  },
  {
   "cell_type": "code",
   "execution_count": null,
   "metadata": {},
   "outputs": [],
   "source": []
  },
  {
   "cell_type": "code",
   "execution_count": null,
   "metadata": {},
   "outputs": [],
   "source": []
  },
  {
   "cell_type": "code",
   "execution_count": null,
   "metadata": {},
   "outputs": [],
   "source": []
  }
 ],
 "metadata": {
  "kernelspec": {
   "display_name": "Python 3",
   "language": "python",
   "name": "python3"
  },
  "language_info": {
   "codemirror_mode": {
    "name": "ipython",
    "version": 3
   },
   "file_extension": ".py",
   "mimetype": "text/x-python",
   "name": "python",
   "nbconvert_exporter": "python",
   "pygments_lexer": "ipython3",
   "version": "3.8.5"
  }
 },
 "nbformat": 4,
 "nbformat_minor": 4
}
