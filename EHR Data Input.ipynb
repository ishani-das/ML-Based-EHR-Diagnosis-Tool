{
 "cells": [
  {
   "cell_type": "code",
   "execution_count": null,
   "metadata": {},
   "outputs": [],
   "source": [
    "# A simple script to calculate BMI\n",
    "from pywebio.input import input, FLOAT\n",
    "from pywebio.output import put_text\n",
    "\n",
    "from pywebio.input import *\n",
    "from pywebio.output import *\n",
    "\n",
    "all_lab_vals = []"
   ]
  },
  {
   "cell_type": "code",
   "execution_count": 2,
   "metadata": {},
   "outputs": [],
   "source": [
    "def show_tests(btn_val):\n",
    "    \n",
    "    # put_text(\"%s button clicked\" % btn_val)\n",
    "    # NOTE: no spaces or slashes allowed in name parameter\n",
    "\n",
    "    if btn_val == 'CBC':\n",
    "        \n",
    "        # put_text('CBC CLICKED')\n",
    "        \n",
    "        cbc_data = input_group(\"CBC Test Lab Results\",[\n",
    "            input('Absolute Lymphocytes', name='CBC_Absolute_Lymphocytes', type=FLOAT),\n",
    "            input('Absolute Neutrophil', name='CBC_Absolute_Neutrophil', type=FLOAT),\n",
    "            input('Basophils', name='CBC_Basophils', type=FLOAT),\n",
    "            input('Eosinophils', name='CBC_Eosinophils', type=FLOAT),\n",
    "            input('Hematocrit', name='CBC_Hematocrit', type=FLOAT),\n",
    "            input('Hemoglobin', name='CBC_Hemoglobin', type=FLOAT),\n",
    "            input('Lymphocytes', name='CBC_Lymphocytes', type=FLOAT),\n",
    "            input('MCH', name='CBC_MCH', type=FLOAT),\n",
    "            input('MCHC', name='CBC_MCHC', type=FLOAT),\n",
    "            input('Mean Corpuscular Volume', name='CBC_Mean_Corpuscular_Volumes', type=FLOAT),\n",
    "            input('Monocytes', name='CBC_Monocytes', type=FLOAT),\n",
    "            input('Neutrophils', name='CBC_Neutrophils', type=FLOAT),\n",
    "            input('Platelet Count', name='CBC_Platelet_Count', type=FLOAT),\n",
    "            input('RDW', name='CBC_RDW', type=FLOAT),\n",
    "            input('Red Blood Cell Count', name='CBC_Red_Blood_Cell_Count', type=FLOAT),\n",
    "            input('White Blood Cell Count', name='CBC_White_Blood_Cell_Count', type=FLOAT)\n",
    "        ])\n",
    "        \n",
    "        all_lab_vals.append(\n",
    "            cbc_data['CBC_Absolute_Lymphocytes'], \n",
    "            cbc_data['CBC_Absolute_Neutrophil'],\n",
    "            cbc_data['CBC_Basophils'],\n",
    "            cbc_data['CBC_Eosinophils'],\n",
    "            cbc_data['CBC_Hematocrit'],\n",
    "            cbc_data['CBC_Hemoglobin'],\n",
    "            cbc_data['CBC_Lymphocytes'],\n",
    "            cbc_data['CBC_MCH'],\n",
    "            cbc_data['CBC_MCHC'],\n",
    "            cbc_data['CBC_Mean_Corpuscular_Volumes'],\n",
    "            cbc_data['CBC_Monocytes'],\n",
    "            cbc_data['CBC_Neutrophils'],\n",
    "            cbc_data['CBC_Platelet_Count'],\n",
    "            cbc_data['CBC_RDW'],\n",
    "            cbc_data['CBC_Red_Blood_Cell_Count'],\n",
    "            cbc_data['CBC_White_Blood_Cell_Count']\n",
    "        )\n",
    "    \n",
    "    \n",
    "    \n",
    "    \n",
    "    if btn_val == 'Metabolic':\n",
    "        \n",
    "        # put_text('Metabolic CLICKED')\n",
    "        \n",
    "        metabolic_data = input_group(\"Metabolic Test Lab Results\",[\n",
    "            input('Albumin', name='Metabolic_Albumin', type=FLOAT),\n",
    "            input('ALK PHOS', name='Metabolic_ALK_PHOS', type=FLOAT),\n",
    "            input('ALT/SGPT', name='Metabolic_ALT_SGPT', type=FLOAT),\n",
    "            input('ANION GAP', name='Metabolic_ANION_GAP', type=FLOAT),\n",
    "            input('AST/SGOT', name='Metabolic_AST_SGOT', type=FLOAT),\n",
    "            input('BILI Total', name='Metabolic_BILI_Total', type=FLOAT),\n",
    "            input('BUN', name='Metabolic_BUN', type=FLOAT),\n",
    "            input('Calcium', name='Metabolic_Calcium', type=FLOAT),\n",
    "            input('Carbon Dioxide', name='Metabolic_Carbon_Dioxide', type=FLOAT),\n",
    "            input('Chloride', name='Metabolic_Chloride', type=FLOAT),\n",
    "            input('Creatinine', name='Metabolic_Creatinine', type=FLOAT),\n",
    "            input('Glucose', name='Metabolic_Glucose', type=FLOAT),\n",
    "            input('Potassium', name='Metabolic_Potassium', type=FLOAT),\n",
    "            input('Sodium', name='Metabolic_Sodium', type=FLOAT),\n",
    "            input('Total Protein', name='Metabolic_Total_Protein', type=FLOAT)\n",
    "        ])\n",
    "        \n",
    "        all_lab_vals.append(\n",
    "            cbc_data['Metabolic_Albumin'], \n",
    "            cbc_data['Metabolic_ALK_PHOS'],\n",
    "            cbc_data['Metabolic_ALT_SGPT'],\n",
    "            cbc_data['Metabolic_ANION_GAP'],\n",
    "            cbc_data['Metabolic_AST_SGOT'],\n",
    "            cbc_data['Metabolic_BILI_Total'],\n",
    "            cbc_data['Metabolic_BUN'],\n",
    "            cbc_data['Metabolic_Calcium'],\n",
    "            cbc_data['Metabolic_Carbon_Dioxide'],\n",
    "            cbc_data['Metabolic_Chloride'],\n",
    "            cbc_data['Metabolic_Creatinine'],\n",
    "            cbc_data['Metabolic_Glucose'],\n",
    "            cbc_data['Metabolic_Potassium'],\n",
    "            cbc_data['Metabolic_Sodium'],\n",
    "            cbc_data['Metabolic_Total_Protein']\n",
    "        )\n",
    "        \n",
    "        \n",
    "        \n",
    "    if btn_val == 'Urinalysis':\n",
    "        \n",
    "        urinalysis_data = input_group(\"Urinalysis Test Lab Results\",[\n",
    "           input('pH', name='Urinalysis_pH', type=FLOAT),\n",
    "           input('Red Blood Cells', name='Urinalysis_Red_Blood_Cells', type=FLOAT),\n",
    "           input('Specific Gravity', name='Urinalysis_Specific_Gravity', type=FLOAT),\n",
    "           input('White Blood Cells', name='Urinalysis_White_Blood_Cells', type=FLOAT)\n",
    "        ])\n",
    "        \n",
    "        all_lab_vals.append(\n",
    "            cbc_data['Urinalysis_pH'], \n",
    "            cbc_data['Urinalysis_Red_Blood_Cells'],\n",
    "            cbc_data['Urinalysis_Specific_Gravity'],\n",
    "            cbc_data['Urinalysis_White_Blood_Cells']\n",
    "        )\n",
    "    "
   ]
  },
  {
   "cell_type": "code",
   "execution_count": 3,
   "metadata": {},
   "outputs": [],
   "source": [
    "def welcome():\n",
    "    \n",
    "    popup('Welcome.', [\n",
    "    put_html('Please click on a lab test to enter specific results. Once you submit these values, you will receive a diagnosis suggestion based on 5 patients with the most similar medical history.'),\n",
    "    put_button('Got it!', onclick=close_popup)])\n",
    "    \n",
    "    put_text('Please click on a lab test to enter specific results. Once you submit these values, you will receive a diagnosis suggestion based on 5 patients with the most similar medical history.')\n",
    "    \n",
    "    put_buttons(['CBC', 'Metabolic', 'Urinalysis'], onclick=show_tests)\n",
    "    \n",
    "    "
   ]
  },
  {
   "cell_type": "code",
   "execution_count": null,
   "metadata": {},
   "outputs": [],
   "source": []
  },
  {
   "cell_type": "code",
   "execution_count": 4,
   "metadata": {},
   "outputs": [],
   "source": [
    "if __name__ == '__main__':\n",
    "    welcome()"
   ]
  },
  {
   "cell_type": "code",
   "execution_count": 5,
   "metadata": {},
   "outputs": [
    {
     "data": {
      "text/plain": [
       "[]"
      ]
     },
     "execution_count": 5,
     "metadata": {},
     "output_type": "execute_result"
    }
   ],
   "source": [
    "all_lab_vals # need "
   ]
  },
  {
   "cell_type": "code",
   "execution_count": null,
   "metadata": {},
   "outputs": [],
   "source": []
  }
 ],
 "metadata": {
  "kernelspec": {
   "display_name": "Python 3",
   "language": "python",
   "name": "python3"
  },
  "language_info": {
   "codemirror_mode": {
    "name": "ipython",
    "version": 3
   },
   "file_extension": ".py",
   "mimetype": "text/x-python",
   "name": "python",
   "nbconvert_exporter": "python",
   "pygments_lexer": "ipython3",
   "version": "3.8.5"
  }
 },
 "nbformat": 4,
 "nbformat_minor": 4
}
