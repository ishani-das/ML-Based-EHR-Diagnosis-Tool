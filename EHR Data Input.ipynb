{
 "cells": [
  {
   "cell_type": "code",
   "execution_count": null,
   "metadata": {},
   "outputs": [],
   "source": [
    "# A simple script to calculate BMI\n",
    "from pywebio.input import input, FLOAT\n",
    "from pywebio.output import put_text\n",
    "\n",
    "from pywebio.input import *\n",
    "from pywebio.output import *"
   ]
  },
  {
   "cell_type": "code",
   "execution_count": 2,
   "metadata": {},
   "outputs": [],
   "source": [
    "def show_tests(btn_val):\n",
    "    put_text(\"You click %s button\" % btn_val)\n",
    "\n",
    "    if btn_val == 'CBC':\n",
    "        \n",
    "        # put_text('CBC CLICKED')\n",
    "        # NOTE: no spaces allowed in name parameter\n",
    "        \n",
    "        info = input_group(\"CBC Test Lab Results\",[\n",
    "            input('Absolute Lymphocytes', name='abs_lymp', tybe=FLOAT),\n",
    "            input('Absolute Neutrophil', name='age', type=FLOAT),\n",
    "            input('Basophils', name='age', type=FLOAT)\n",
    "        ])\n",
    "        # print(info['CBC ABSOLUTE LYMPHOCYTES'], info['CBC ABSOLUTE NEUTROPHILS'])\n",
    "\n",
    "        \n",
    "        \n",
    "        # print(info['CBC: ABSOLUTE LYMPHOCYTES'], info['age'])\n",
    "\n",
    "       "
   ]
  },
  {
   "cell_type": "code",
   "execution_count": 3,
   "metadata": {},
   "outputs": [],
   "source": [
    "def welcome():\n",
    "    \n",
    "    popup('Welcome.', [\n",
    "    put_html('Please click on a lab test to enter specific results. Once you submit these values, you will receive a diagnosis suggestion based on 5 patients with the most similar medical history.'),\n",
    "    put_button('Got it!', onclick=close_popup)])\n",
    "    \n",
    "    put_text('Please click on a lab test to enter specific results. Once you submit these values, you will receive a diagnosis suggestion based on 5 patients with the most similar medical history.')\n",
    "    \n",
    "    # info = input_group(\"User info\",[ input('Input your name', name='name'), input('Input your age', name='age', type=NUMBER)])    \n",
    "    # put_table([ ['CBC', info], ['Metabolic'], ['Urinalysis'] ])\n",
    "\n",
    "    put_buttons(['CBC', 'Metabolic', 'Urinalysis'], onclick=show_tests)\n",
    "    "
   ]
  },
  {
   "cell_type": "code",
   "execution_count": null,
   "metadata": {},
   "outputs": [],
   "source": []
  },
  {
   "cell_type": "code",
   "execution_count": 4,
   "metadata": {},
   "outputs": [
    {
     "name": "stderr",
     "output_type": "stream",
     "text": [
      "Exception in thread Thread-6:\n",
      "Traceback (most recent call last):\n",
      "  File \"/Users/ishanidas/opt/anaconda3/lib/python3.8/site-packages/pywebio/session/threadbased.py\", line 254, in run\n",
      "    callback(event['data'])\n",
      "  File \"/Users/ishanidas/opt/anaconda3/lib/python3.8/site-packages/pywebio/output.py\", line 805, in click_callback\n",
      "    return onclick(btn_val)\n",
      "  File \"<ipython-input-2-72cc4396e3e5>\", line 9, in show_tests\n",
      "  File \"/Users/ishanidas/opt/anaconda3/lib/python3.8/site-packages/pywebio/input.py\", line 730, in input_group\n",
      "    return input_control(spec, preprocess_funcs=preprocess_funcs,\n",
      "  File \"/Users/ishanidas/opt/anaconda3/lib/python3.8/site-packages/pywebio/session/__init__.py\", line 283, in inner\n",
      "    return run_as_function(gen)\n",
      "  File \"/Users/ishanidas/opt/anaconda3/lib/python3.8/site-packages/pywebio/utils.py\", line 296, in run_as_function\n",
      "    res = gen.send(res)\n",
      "  File \"/Users/ishanidas/opt/anaconda3/lib/python3.8/site-packages/pywebio/io_ctrl.py\", line 280, in input_control\n",
      "    data = yield input_event_handle(item_valid_funcs, form_valid_funcs, preprocess_funcs, onchange_funcs)\n",
      "  File \"/Users/ishanidas/opt/anaconda3/lib/python3.8/site-packages/pywebio/session/__init__.py\", line 283, in inner\n",
      "    return run_as_function(gen)\n",
      "  File \"/Users/ishanidas/opt/anaconda3/lib/python3.8/site-packages/pywebio/utils.py\", line 296, in run_as_function\n",
      "    res = gen.send(res)\n",
      "  File \"/Users/ishanidas/opt/anaconda3/lib/python3.8/site-packages/pywebio/io_ctrl.py\", line 334, in input_event_handle\n",
      "    event = yield next_client_event()\n",
      "  File \"/Users/ishanidas/opt/anaconda3/lib/python3.8/site-packages/pywebio/session/__init__.py\", line 283, in inner\n",
      "    return run_as_function(gen)\n",
      "  File \"/Users/ishanidas/opt/anaconda3/lib/python3.8/site-packages/pywebio/utils.py\", line 296, in run_as_function\n",
      "    res = gen.send(res)\n",
      "  File \"/Users/ishanidas/opt/anaconda3/lib/python3.8/site-packages/pywebio/session/__init__.py\", line 290, in next_client_event\n",
      "    res = yield get_current_session().next_client_event()\n",
      "  File \"/Users/ishanidas/opt/anaconda3/lib/python3.8/site-packages/pywebio/session/threadbased.py\", line 138, in next_client_event\n",
      "    raise SessionClosedException\n",
      "pywebio.exceptions.SessionClosedException\n",
      "\n",
      "During handling of the above exception, another exception occurred:\n",
      "\n",
      "Traceback (most recent call last):\n",
      "  File \"/Users/ishanidas/opt/anaconda3/lib/python3.8/threading.py\", line 932, in _bootstrap_inner\n",
      "    self.run()\n",
      "  File \"/Users/ishanidas/opt/anaconda3/lib/python3.8/threading.py\", line 870, in run\n",
      "    self._target(*self._args, **self._kwargs)\n",
      "  File \"/Users/ishanidas/opt/anaconda3/lib/python3.8/site-packages/pywebio/session/threadbased.py\", line 257, in run\n",
      "    self.get_current_session().on_task_exception()\n",
      "  File \"/Users/ishanidas/opt/anaconda3/lib/python3.8/site-packages/pywebio/session/threadbased.py\", line 307, in get_current_session\n",
      "    raise SessionClosedException()\n",
      "pywebio.exceptions.SessionClosedException\n"
     ]
    }
   ],
   "source": [
    "if __name__ == '__main__':\n",
    "    welcome()"
   ]
  },
  {
   "cell_type": "code",
   "execution_count": null,
   "metadata": {},
   "outputs": [],
   "source": []
  },
  {
   "cell_type": "code",
   "execution_count": null,
   "metadata": {},
   "outputs": [],
   "source": []
  },
  {
   "cell_type": "code",
   "execution_count": null,
   "metadata": {},
   "outputs": [],
   "source": [
    "height = input(\"Patient's Glucose Level (mg/dL)：\", type=FLOAT)\n",
    "    weight = input(\"Input your weight(kg)：\", type=FLOAT)\n",
    "\n",
    "    \n",
    "    BMI = weight / (height / 100) ** 2\n",
    "\n",
    "    top_status = [(16, 'Severely underweight'), (18.5, 'Underweight'),\n",
    "                  (25, 'Normal'), (30, 'Overweight'),\n",
    "                  (35, 'Moderately obese'), (float('inf'), 'Severely obese')]\n",
    "\n",
    "    for top, status in top_status:\n",
    "        if BMI <= top:\n",
    "            put_text('Your BMI: %.1f. Category: %s' % (BMI, status))\n",
    "            break\n",
    "    \n",
    "    \n",
    "    \n",
    "    \n",
    "    \n",
    "    \n",
    "    \n",
    "    \n",
    "info = input_group(\"CBC Lab Results\",[\n",
    "            input('Absolute Lymphocytes', name='CBC: ABSOLUTE LYMPHOCYTES', type=FLOAT),\n",
    "            input('Absolute Neutrophils', name='CBC: ABSOLUTE NEUTROPHILS', type=FLOAT)\n",
    "            # input('Basophils', name='CBC: BASOPHILS', type=FLOAT),\n",
    "            # input('Eosinophils', name='CBC: EOSINOPHILS', type=FLOAT)\n",
    "        ])"
   ]
  }
 ],
 "metadata": {
  "kernelspec": {
   "display_name": "Python 3",
   "language": "python",
   "name": "python3"
  },
  "language_info": {
   "codemirror_mode": {
    "name": "ipython",
    "version": 3
   },
   "file_extension": ".py",
   "mimetype": "text/x-python",
   "name": "python",
   "nbconvert_exporter": "python",
   "pygments_lexer": "ipython3",
   "version": "3.8.5"
  }
 },
 "nbformat": 4,
 "nbformat_minor": 4
}
