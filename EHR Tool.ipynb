{
 "cells": [
  {
   "cell_type": "code",
   "execution_count": 63,
   "metadata": {},
   "outputs": [],
   "source": [
    "import pandas as pd\n",
    "import numpy as np\n",
    "from pywebio.input import *\n",
    "from pywebio.output import *\n",
    "\n",
    "from ipywidgets import interact, interactive, fixed, interact_manual\n",
    "import ipywidgets as widgets\n",
    "\n",
    "import pandas as pd\n",
    "import numpy as np\n",
    "import seaborn as sns\n",
    "import matplotlib.pyplot as plt\n",
    "import sklearn\n",
    "from sklearn.model_selection import train_test_split \n",
    "\n",
    "from sklearn.linear_model import LogisticRegression\n",
    "from sklearn.tree import DecisionTreeClassifier \n",
    "from sklearn.neighbors import KNeighborsClassifier\n",
    "from sklearn.metrics import plot_confusion_matrix"
   ]
  },
  {
   "cell_type": "code",
   "execution_count": 66,
   "metadata": {},
   "outputs": [],
   "source": [
    "# A simple script to calculate BMI\n",
    "from pywebio.input import input, FLOAT\n",
    "from pywebio.output import put_text\n",
    "\n",
    "def bmi():\n",
    "    \n",
    "    # put_text('Welcome, doctor.')\n",
    "    \n",
    "    # put_table([ ['Commodity', 'Price'], ['Apple', '5.5'], ['Banana', '7'] ])\n",
    "    \n",
    "    height = input(\"Patient's Glucose Level (mg/dL)：\", type=FLOAT)\n",
    "    weight = input(\"Input your weight(kg)：\", type=FLOAT)\n",
    "\n",
    "    BMI = weight / (height / 100) ** 2\n",
    "\n",
    "    top_status = [(16, 'Severely underweight'), (18.5, 'Underweight'),\n",
    "                  (25, 'Normal'), (30, 'Overweight'),\n",
    "                  (35, 'Moderately obese'), (float('inf'), 'Severely obese')]\n",
    "\n",
    "    for top, status in top_status:\n",
    "        if BMI <= top:\n",
    "            put_text('Your BMI: %.1f. Category: %s' % (BMI, status))\n",
    "            break"
   ]
  },
  {
   "cell_type": "code",
   "execution_count": null,
   "metadata": {},
   "outputs": [],
   "source": []
  },
  {
   "cell_type": "code",
   "execution_count": 67,
   "metadata": {},
   "outputs": [
    {
     "ename": "SessionClosedException",
     "evalue": "",
     "output_type": "error",
     "traceback": [
      "\u001b[0;31m---------------------------------------------------------------------------\u001b[0m",
      "\u001b[0;31mSessionClosedException\u001b[0m                    Traceback (most recent call last)",
      "\u001b[0;32m<ipython-input-67-124ec3035ce4>\u001b[0m in \u001b[0;36m<module>\u001b[0;34m\u001b[0m\n\u001b[1;32m      1\u001b[0m \u001b[0;32mif\u001b[0m \u001b[0m__name__\u001b[0m \u001b[0;34m==\u001b[0m \u001b[0;34m'__main__'\u001b[0m\u001b[0;34m:\u001b[0m\u001b[0;34m\u001b[0m\u001b[0;34m\u001b[0m\u001b[0m\n\u001b[0;32m----> 2\u001b[0;31m     \u001b[0mbmi\u001b[0m\u001b[0;34m(\u001b[0m\u001b[0;34m)\u001b[0m\u001b[0;34m\u001b[0m\u001b[0;34m\u001b[0m\u001b[0m\n\u001b[0m",
      "\u001b[0;32m<ipython-input-66-20106caa1de4>\u001b[0m in \u001b[0;36mbmi\u001b[0;34m()\u001b[0m\n\u001b[1;32m      9\u001b[0m     \u001b[0;31m# put_table([ ['Commodity', 'Price'], ['Apple', '5.5'], ['Banana', '7'] ])\u001b[0m\u001b[0;34m\u001b[0m\u001b[0;34m\u001b[0m\u001b[0;34m\u001b[0m\u001b[0m\n\u001b[1;32m     10\u001b[0m \u001b[0;34m\u001b[0m\u001b[0m\n\u001b[0;32m---> 11\u001b[0;31m     \u001b[0mheight\u001b[0m \u001b[0;34m=\u001b[0m \u001b[0minput\u001b[0m\u001b[0;34m(\u001b[0m\u001b[0;34m\"Patient's Glucose Level (mg/dL)：\"\u001b[0m\u001b[0;34m,\u001b[0m \u001b[0mtype\u001b[0m\u001b[0;34m=\u001b[0m\u001b[0mFLOAT\u001b[0m\u001b[0;34m)\u001b[0m\u001b[0;34m\u001b[0m\u001b[0;34m\u001b[0m\u001b[0m\n\u001b[0m\u001b[1;32m     12\u001b[0m     \u001b[0mweight\u001b[0m \u001b[0;34m=\u001b[0m \u001b[0minput\u001b[0m\u001b[0;34m(\u001b[0m\u001b[0;34m\"Input your weight(kg)：\"\u001b[0m\u001b[0;34m,\u001b[0m \u001b[0mtype\u001b[0m\u001b[0;34m=\u001b[0m\u001b[0mFLOAT\u001b[0m\u001b[0;34m)\u001b[0m\u001b[0;34m\u001b[0m\u001b[0;34m\u001b[0m\u001b[0m\n\u001b[1;32m     13\u001b[0m \u001b[0;34m\u001b[0m\u001b[0m\n",
      "\u001b[0;32m~/opt/anaconda3/lib/python3.8/site-packages/pywebio/input.py\u001b[0m in \u001b[0;36minput\u001b[0;34m(label, type, validate, name, value, action, onchange, placeholder, required, readonly, datalist, help_text, **other_html_attrs)\u001b[0m\n\u001b[1;32m    255\u001b[0m         \u001b[0;32mreturn\u001b[0m \u001b[0md\u001b[0m\u001b[0;34m\u001b[0m\u001b[0;34m\u001b[0m\u001b[0m\n\u001b[1;32m    256\u001b[0m \u001b[0;34m\u001b[0m\u001b[0m\n\u001b[0;32m--> 257\u001b[0;31m     \u001b[0;32mreturn\u001b[0m \u001b[0msingle_input\u001b[0m\u001b[0;34m(\u001b[0m\u001b[0mitem_spec\u001b[0m\u001b[0;34m,\u001b[0m \u001b[0mvalid_func\u001b[0m\u001b[0;34m,\u001b[0m \u001b[0mpreprocess_func\u001b[0m\u001b[0;34m,\u001b[0m \u001b[0monchange_func\u001b[0m\u001b[0;34m)\u001b[0m\u001b[0;34m\u001b[0m\u001b[0;34m\u001b[0m\u001b[0m\n\u001b[0m\u001b[1;32m    258\u001b[0m \u001b[0;34m\u001b[0m\u001b[0m\n\u001b[1;32m    259\u001b[0m \u001b[0;34m\u001b[0m\u001b[0m\n",
      "\u001b[0;32m~/opt/anaconda3/lib/python3.8/site-packages/pywebio/session/__init__.py\u001b[0m in \u001b[0;36minner\u001b[0;34m(*args, **kwargs)\u001b[0m\n\u001b[1;32m    281\u001b[0m             \u001b[0;32mreturn\u001b[0m \u001b[0mto_coroutine\u001b[0m\u001b[0;34m(\u001b[0m\u001b[0mgen\u001b[0m\u001b[0;34m)\u001b[0m\u001b[0;34m\u001b[0m\u001b[0;34m\u001b[0m\u001b[0m\n\u001b[1;32m    282\u001b[0m         \u001b[0;32melse\u001b[0m\u001b[0;34m:\u001b[0m\u001b[0;34m\u001b[0m\u001b[0;34m\u001b[0m\u001b[0m\n\u001b[0;32m--> 283\u001b[0;31m             \u001b[0;32mreturn\u001b[0m \u001b[0mrun_as_function\u001b[0m\u001b[0;34m(\u001b[0m\u001b[0mgen\u001b[0m\u001b[0;34m)\u001b[0m\u001b[0;34m\u001b[0m\u001b[0;34m\u001b[0m\u001b[0m\n\u001b[0m\u001b[1;32m    284\u001b[0m \u001b[0;34m\u001b[0m\u001b[0m\n\u001b[1;32m    285\u001b[0m     \u001b[0;32mreturn\u001b[0m \u001b[0minner\u001b[0m\u001b[0;34m\u001b[0m\u001b[0;34m\u001b[0m\u001b[0m\n",
      "\u001b[0;32m~/opt/anaconda3/lib/python3.8/site-packages/pywebio/utils.py\u001b[0m in \u001b[0;36mrun_as_function\u001b[0;34m(gen)\u001b[0m\n\u001b[1;32m    294\u001b[0m     \u001b[0;32mwhile\u001b[0m \u001b[0;36m1\u001b[0m\u001b[0;34m:\u001b[0m\u001b[0;34m\u001b[0m\u001b[0;34m\u001b[0m\u001b[0m\n\u001b[1;32m    295\u001b[0m         \u001b[0;32mtry\u001b[0m\u001b[0;34m:\u001b[0m\u001b[0;34m\u001b[0m\u001b[0;34m\u001b[0m\u001b[0m\n\u001b[0;32m--> 296\u001b[0;31m             \u001b[0mres\u001b[0m \u001b[0;34m=\u001b[0m \u001b[0mgen\u001b[0m\u001b[0;34m.\u001b[0m\u001b[0msend\u001b[0m\u001b[0;34m(\u001b[0m\u001b[0mres\u001b[0m\u001b[0;34m)\u001b[0m\u001b[0;34m\u001b[0m\u001b[0;34m\u001b[0m\u001b[0m\n\u001b[0m\u001b[1;32m    297\u001b[0m         \u001b[0;32mexcept\u001b[0m \u001b[0mStopIteration\u001b[0m \u001b[0;32mas\u001b[0m \u001b[0me\u001b[0m\u001b[0;34m:\u001b[0m\u001b[0;34m\u001b[0m\u001b[0;34m\u001b[0m\u001b[0m\n\u001b[1;32m    298\u001b[0m             \u001b[0;32mif\u001b[0m \u001b[0mlen\u001b[0m\u001b[0;34m(\u001b[0m\u001b[0me\u001b[0m\u001b[0;34m.\u001b[0m\u001b[0margs\u001b[0m\u001b[0;34m)\u001b[0m \u001b[0;34m==\u001b[0m \u001b[0;36m1\u001b[0m\u001b[0;34m:\u001b[0m\u001b[0;34m\u001b[0m\u001b[0;34m\u001b[0m\u001b[0m\n",
      "\u001b[0;32m~/opt/anaconda3/lib/python3.8/site-packages/pywebio/io_ctrl.py\u001b[0m in \u001b[0;36msingle_input\u001b[0;34m(item_spec, valid_func, preprocess_func, onchange_func)\u001b[0m\n\u001b[1;32m    258\u001b[0m \u001b[0;34m\u001b[0m\u001b[0m\n\u001b[1;32m    259\u001b[0m     \u001b[0mspec\u001b[0m \u001b[0;34m=\u001b[0m \u001b[0mdict\u001b[0m\u001b[0;34m(\u001b[0m\u001b[0mlabel\u001b[0m\u001b[0;34m=\u001b[0m\u001b[0mlabel\u001b[0m\u001b[0;34m,\u001b[0m \u001b[0minputs\u001b[0m\u001b[0;34m=\u001b[0m\u001b[0;34m[\u001b[0m\u001b[0mitem_spec\u001b[0m\u001b[0;34m]\u001b[0m\u001b[0;34m)\u001b[0m\u001b[0;34m\u001b[0m\u001b[0;34m\u001b[0m\u001b[0m\n\u001b[0;32m--> 260\u001b[0;31m     data = yield input_control(spec=spec,\n\u001b[0m\u001b[1;32m    261\u001b[0m                                \u001b[0mpreprocess_funcs\u001b[0m\u001b[0;34m=\u001b[0m\u001b[0;34m{\u001b[0m\u001b[0mname\u001b[0m\u001b[0;34m:\u001b[0m \u001b[0mpreprocess_func\u001b[0m\u001b[0;34m}\u001b[0m\u001b[0;34m,\u001b[0m\u001b[0;34m\u001b[0m\u001b[0;34m\u001b[0m\u001b[0m\n\u001b[1;32m    262\u001b[0m                                \u001b[0mitem_valid_funcs\u001b[0m\u001b[0;34m=\u001b[0m\u001b[0;34m{\u001b[0m\u001b[0mname\u001b[0m\u001b[0;34m:\u001b[0m \u001b[0mvalid_func\u001b[0m\u001b[0;34m}\u001b[0m\u001b[0;34m,\u001b[0m\u001b[0;34m\u001b[0m\u001b[0;34m\u001b[0m\u001b[0m\n",
      "\u001b[0;32m~/opt/anaconda3/lib/python3.8/site-packages/pywebio/session/__init__.py\u001b[0m in \u001b[0;36minner\u001b[0;34m(*args, **kwargs)\u001b[0m\n\u001b[1;32m    281\u001b[0m             \u001b[0;32mreturn\u001b[0m \u001b[0mto_coroutine\u001b[0m\u001b[0;34m(\u001b[0m\u001b[0mgen\u001b[0m\u001b[0;34m)\u001b[0m\u001b[0;34m\u001b[0m\u001b[0;34m\u001b[0m\u001b[0m\n\u001b[1;32m    282\u001b[0m         \u001b[0;32melse\u001b[0m\u001b[0;34m:\u001b[0m\u001b[0;34m\u001b[0m\u001b[0;34m\u001b[0m\u001b[0m\n\u001b[0;32m--> 283\u001b[0;31m             \u001b[0;32mreturn\u001b[0m \u001b[0mrun_as_function\u001b[0m\u001b[0;34m(\u001b[0m\u001b[0mgen\u001b[0m\u001b[0;34m)\u001b[0m\u001b[0;34m\u001b[0m\u001b[0;34m\u001b[0m\u001b[0m\n\u001b[0m\u001b[1;32m    284\u001b[0m \u001b[0;34m\u001b[0m\u001b[0m\n\u001b[1;32m    285\u001b[0m     \u001b[0;32mreturn\u001b[0m \u001b[0minner\u001b[0m\u001b[0;34m\u001b[0m\u001b[0;34m\u001b[0m\u001b[0m\n",
      "\u001b[0;32m~/opt/anaconda3/lib/python3.8/site-packages/pywebio/utils.py\u001b[0m in \u001b[0;36mrun_as_function\u001b[0;34m(gen)\u001b[0m\n\u001b[1;32m    294\u001b[0m     \u001b[0;32mwhile\u001b[0m \u001b[0;36m1\u001b[0m\u001b[0;34m:\u001b[0m\u001b[0;34m\u001b[0m\u001b[0;34m\u001b[0m\u001b[0m\n\u001b[1;32m    295\u001b[0m         \u001b[0;32mtry\u001b[0m\u001b[0;34m:\u001b[0m\u001b[0;34m\u001b[0m\u001b[0;34m\u001b[0m\u001b[0m\n\u001b[0;32m--> 296\u001b[0;31m             \u001b[0mres\u001b[0m \u001b[0;34m=\u001b[0m \u001b[0mgen\u001b[0m\u001b[0;34m.\u001b[0m\u001b[0msend\u001b[0m\u001b[0;34m(\u001b[0m\u001b[0mres\u001b[0m\u001b[0;34m)\u001b[0m\u001b[0;34m\u001b[0m\u001b[0;34m\u001b[0m\u001b[0m\n\u001b[0m\u001b[1;32m    297\u001b[0m         \u001b[0;32mexcept\u001b[0m \u001b[0mStopIteration\u001b[0m \u001b[0;32mas\u001b[0m \u001b[0me\u001b[0m\u001b[0;34m:\u001b[0m\u001b[0;34m\u001b[0m\u001b[0;34m\u001b[0m\u001b[0m\n\u001b[1;32m    298\u001b[0m             \u001b[0;32mif\u001b[0m \u001b[0mlen\u001b[0m\u001b[0;34m(\u001b[0m\u001b[0me\u001b[0m\u001b[0;34m.\u001b[0m\u001b[0margs\u001b[0m\u001b[0;34m)\u001b[0m \u001b[0;34m==\u001b[0m \u001b[0;36m1\u001b[0m\u001b[0;34m:\u001b[0m\u001b[0;34m\u001b[0m\u001b[0;34m\u001b[0m\u001b[0m\n",
      "\u001b[0;32m~/opt/anaconda3/lib/python3.8/site-packages/pywebio/io_ctrl.py\u001b[0m in \u001b[0;36minput_control\u001b[0;34m(spec, preprocess_funcs, item_valid_funcs, onchange_funcs, form_valid_funcs)\u001b[0m\n\u001b[1;32m    276\u001b[0m     \u001b[0;34m:\u001b[0m\u001b[0;32mreturn\u001b[0m\u001b[0;34m:\u001b[0m\u001b[0;34m\u001b[0m\u001b[0;34m\u001b[0m\u001b[0m\n\u001b[1;32m    277\u001b[0m     \"\"\"\n\u001b[0;32m--> 278\u001b[0;31m     \u001b[0msend_msg\u001b[0m\u001b[0;34m(\u001b[0m\u001b[0;34m'input_group'\u001b[0m\u001b[0;34m,\u001b[0m \u001b[0mspec\u001b[0m\u001b[0;34m)\u001b[0m\u001b[0;34m\u001b[0m\u001b[0;34m\u001b[0m\u001b[0m\n\u001b[0m\u001b[1;32m    279\u001b[0m \u001b[0;34m\u001b[0m\u001b[0m\n\u001b[1;32m    280\u001b[0m     \u001b[0mdata\u001b[0m \u001b[0;34m=\u001b[0m \u001b[0;32myield\u001b[0m \u001b[0minput_event_handle\u001b[0m\u001b[0;34m(\u001b[0m\u001b[0mitem_valid_funcs\u001b[0m\u001b[0;34m,\u001b[0m \u001b[0mform_valid_funcs\u001b[0m\u001b[0;34m,\u001b[0m \u001b[0mpreprocess_funcs\u001b[0m\u001b[0;34m,\u001b[0m \u001b[0monchange_funcs\u001b[0m\u001b[0;34m)\u001b[0m\u001b[0;34m\u001b[0m\u001b[0;34m\u001b[0m\u001b[0m\n",
      "\u001b[0;32m~/opt/anaconda3/lib/python3.8/site-packages/pywebio/io_ctrl.py\u001b[0m in \u001b[0;36msend_msg\u001b[0;34m(cmd, spec, task_id)\u001b[0m\n\u001b[1;32m    214\u001b[0m \u001b[0;34m\u001b[0m\u001b[0m\n\u001b[1;32m    215\u001b[0m \u001b[0;32mdef\u001b[0m \u001b[0msend_msg\u001b[0m\u001b[0;34m(\u001b[0m\u001b[0mcmd\u001b[0m\u001b[0;34m,\u001b[0m \u001b[0mspec\u001b[0m\u001b[0;34m=\u001b[0m\u001b[0;32mNone\u001b[0m\u001b[0;34m,\u001b[0m \u001b[0mtask_id\u001b[0m\u001b[0;34m=\u001b[0m\u001b[0;32mNone\u001b[0m\u001b[0;34m)\u001b[0m\u001b[0;34m:\u001b[0m\u001b[0;34m\u001b[0m\u001b[0;34m\u001b[0m\u001b[0m\n\u001b[0;32m--> 216\u001b[0;31m     \u001b[0mmsg\u001b[0m \u001b[0;34m=\u001b[0m \u001b[0mdict\u001b[0m\u001b[0;34m(\u001b[0m\u001b[0mcommand\u001b[0m\u001b[0;34m=\u001b[0m\u001b[0mcmd\u001b[0m\u001b[0;34m,\u001b[0m \u001b[0mspec\u001b[0m\u001b[0;34m=\u001b[0m\u001b[0mspec\u001b[0m\u001b[0;34m,\u001b[0m \u001b[0mtask_id\u001b[0m\u001b[0;34m=\u001b[0m\u001b[0mtask_id\u001b[0m \u001b[0;32mor\u001b[0m \u001b[0mget_current_task_id\u001b[0m\u001b[0;34m(\u001b[0m\u001b[0;34m)\u001b[0m\u001b[0;34m)\u001b[0m\u001b[0;34m\u001b[0m\u001b[0;34m\u001b[0m\u001b[0m\n\u001b[0m\u001b[1;32m    217\u001b[0m     \u001b[0mget_current_session\u001b[0m\u001b[0;34m(\u001b[0m\u001b[0;34m)\u001b[0m\u001b[0;34m.\u001b[0m\u001b[0msend_task_command\u001b[0m\u001b[0;34m(\u001b[0m\u001b[0mmsg\u001b[0m\u001b[0;34m)\u001b[0m\u001b[0;34m\u001b[0m\u001b[0;34m\u001b[0m\u001b[0m\n\u001b[1;32m    218\u001b[0m \u001b[0;34m\u001b[0m\u001b[0m\n",
      "\u001b[0;32m~/opt/anaconda3/lib/python3.8/site-packages/pywebio/session/__init__.py\u001b[0m in \u001b[0;36mget_current_task_id\u001b[0;34m()\u001b[0m\n\u001b[1;32m    239\u001b[0m \u001b[0;34m\u001b[0m\u001b[0m\n\u001b[1;32m    240\u001b[0m \u001b[0;32mdef\u001b[0m \u001b[0mget_current_task_id\u001b[0m\u001b[0;34m(\u001b[0m\u001b[0;34m)\u001b[0m\u001b[0;34m:\u001b[0m\u001b[0;34m\u001b[0m\u001b[0;34m\u001b[0m\u001b[0m\n\u001b[0;32m--> 241\u001b[0;31m     \u001b[0;32mreturn\u001b[0m \u001b[0mget_session_implement\u001b[0m\u001b[0;34m(\u001b[0m\u001b[0;34m)\u001b[0m\u001b[0;34m.\u001b[0m\u001b[0mget_current_task_id\u001b[0m\u001b[0;34m(\u001b[0m\u001b[0;34m)\u001b[0m\u001b[0;34m\u001b[0m\u001b[0;34m\u001b[0m\u001b[0m\n\u001b[0m\u001b[1;32m    242\u001b[0m \u001b[0;34m\u001b[0m\u001b[0m\n\u001b[1;32m    243\u001b[0m \u001b[0;34m\u001b[0m\u001b[0m\n",
      "\u001b[0;32m~/opt/anaconda3/lib/python3.8/site-packages/pywebio/session/threadbased.py\u001b[0m in \u001b[0;36mget_current_task_id\u001b[0;34m(cls)\u001b[0m\n\u001b[1;32m    311\u001b[0m     \u001b[0;32mdef\u001b[0m \u001b[0mget_current_task_id\u001b[0m\u001b[0;34m(\u001b[0m\u001b[0mcls\u001b[0m\u001b[0;34m)\u001b[0m\u001b[0;34m:\u001b[0m\u001b[0;34m\u001b[0m\u001b[0;34m\u001b[0m\u001b[0m\n\u001b[1;32m    312\u001b[0m         \u001b[0mtask_id\u001b[0m \u001b[0;34m=\u001b[0m \u001b[0msuper\u001b[0m\u001b[0;34m(\u001b[0m\u001b[0;34m)\u001b[0m\u001b[0;34m.\u001b[0m\u001b[0mget_current_task_id\u001b[0m\u001b[0;34m(\u001b[0m\u001b[0;34m)\u001b[0m\u001b[0;34m\u001b[0m\u001b[0;34m\u001b[0m\u001b[0m\n\u001b[0;32m--> 313\u001b[0;31m         \u001b[0msession\u001b[0m \u001b[0;34m=\u001b[0m \u001b[0mcls\u001b[0m\u001b[0;34m.\u001b[0m\u001b[0mget_current_session\u001b[0m\u001b[0;34m(\u001b[0m\u001b[0;34m)\u001b[0m\u001b[0;34m\u001b[0m\u001b[0;34m\u001b[0m\u001b[0m\n\u001b[0m\u001b[1;32m    314\u001b[0m         \u001b[0;32mif\u001b[0m \u001b[0mtask_id\u001b[0m \u001b[0;32mnot\u001b[0m \u001b[0;32min\u001b[0m \u001b[0msession\u001b[0m\u001b[0;34m.\u001b[0m\u001b[0mtask_mqs\u001b[0m\u001b[0;34m:\u001b[0m\u001b[0;34m\u001b[0m\u001b[0;34m\u001b[0m\u001b[0m\n\u001b[1;32m    315\u001b[0m             \u001b[0msession\u001b[0m\u001b[0;34m.\u001b[0m\u001b[0mregister_thread\u001b[0m\u001b[0;34m(\u001b[0m\u001b[0mthreading\u001b[0m\u001b[0;34m.\u001b[0m\u001b[0mcurrent_thread\u001b[0m\u001b[0;34m(\u001b[0m\u001b[0;34m)\u001b[0m\u001b[0;34m)\u001b[0m\u001b[0;34m\u001b[0m\u001b[0;34m\u001b[0m\u001b[0m\n",
      "\u001b[0;32m~/opt/anaconda3/lib/python3.8/site-packages/pywebio/session/threadbased.py\u001b[0m in \u001b[0;36mget_current_session\u001b[0;34m(cls)\u001b[0m\n\u001b[1;32m    305\u001b[0m             \u001b[0;32mraise\u001b[0m \u001b[0mSessionNotFoundException\u001b[0m\u001b[0;34m(\u001b[0m\u001b[0;34m\"Can't find current session. It might be a bug.\"\u001b[0m\u001b[0;34m)\u001b[0m\u001b[0;34m\u001b[0m\u001b[0;34m\u001b[0m\u001b[0m\n\u001b[1;32m    306\u001b[0m         \u001b[0;32mif\u001b[0m \u001b[0mcls\u001b[0m\u001b[0;34m.\u001b[0m\u001b[0minstance\u001b[0m\u001b[0;34m.\u001b[0m\u001b[0mclosed\u001b[0m\u001b[0;34m(\u001b[0m\u001b[0;34m)\u001b[0m\u001b[0;34m:\u001b[0m\u001b[0;34m\u001b[0m\u001b[0;34m\u001b[0m\u001b[0m\n\u001b[0;32m--> 307\u001b[0;31m             \u001b[0;32mraise\u001b[0m \u001b[0mSessionClosedException\u001b[0m\u001b[0;34m(\u001b[0m\u001b[0;34m)\u001b[0m\u001b[0;34m\u001b[0m\u001b[0;34m\u001b[0m\u001b[0m\n\u001b[0m\u001b[1;32m    308\u001b[0m         \u001b[0;32mreturn\u001b[0m \u001b[0mcls\u001b[0m\u001b[0;34m.\u001b[0m\u001b[0minstance\u001b[0m\u001b[0;34m\u001b[0m\u001b[0;34m\u001b[0m\u001b[0m\n\u001b[1;32m    309\u001b[0m \u001b[0;34m\u001b[0m\u001b[0m\n",
      "\u001b[0;31mSessionClosedException\u001b[0m: "
     ]
    }
   ],
   "source": [
    "if __name__ == '__main__':\n",
    "    bmi()"
   ]
  },
  {
   "cell_type": "code",
   "execution_count": 4,
   "metadata": {},
   "outputs": [],
   "source": [
    "def readFile(diag_fn, labs_fn):\n",
    "    diag_file = open(diag_fn)\n",
    "    labs_fn = open(labs_fn)\n",
    "    \n",
    "    diagnosis_admissions_table = pd.read_table(diag_fn)\n",
    "    \n",
    "    labs_table = pd.read_table(labs_fn)\n",
    "    labs_table['PatientID'] =  labs_table['PatientID'] + '_' + labs_table['AdmissionID'].astype(str)\n",
    "            \n",
    "    return diagnosis_admissions_table, labs_table"
   ]
  },
  {
   "cell_type": "code",
   "execution_count": 5,
   "metadata": {},
   "outputs": [],
   "source": [
    "diag_table, labs_table = readFile('AdmissionsDiagnosesCorePopulatedTable.txt', 'LabsCorePopulatedTable.txt')"
   ]
  },
  {
   "cell_type": "code",
   "execution_count": 6,
   "metadata": {},
   "outputs": [
    {
     "data": {
      "text/html": [
       "<div>\n",
       "<style scoped>\n",
       "    .dataframe tbody tr th:only-of-type {\n",
       "        vertical-align: middle;\n",
       "    }\n",
       "\n",
       "    .dataframe tbody tr th {\n",
       "        vertical-align: top;\n",
       "    }\n",
       "\n",
       "    .dataframe thead th {\n",
       "        text-align: right;\n",
       "    }\n",
       "</style>\n",
       "<table border=\"1\" class=\"dataframe\">\n",
       "  <thead>\n",
       "    <tr style=\"text-align: right;\">\n",
       "      <th></th>\n",
       "      <th>PatientID</th>\n",
       "      <th>AdmissionID</th>\n",
       "      <th>LabName</th>\n",
       "      <th>LabValue</th>\n",
       "      <th>LabUnits</th>\n",
       "      <th>LabDateTime</th>\n",
       "    </tr>\n",
       "  </thead>\n",
       "  <tbody>\n",
       "    <tr>\n",
       "      <th>0</th>\n",
       "      <td>BF7165BC-CCD9-4CE4-944F-E3C9786B7BF3_1</td>\n",
       "      <td>1</td>\n",
       "      <td>METABOLIC: ALT/SGPT</td>\n",
       "      <td>40.0</td>\n",
       "      <td>U/L</td>\n",
       "      <td>1974-01-11 21:10:51.930000000</td>\n",
       "    </tr>\n",
       "    <tr>\n",
       "      <th>1</th>\n",
       "      <td>BF7165BC-CCD9-4CE4-944F-E3C9786B7BF3_1</td>\n",
       "      <td>1</td>\n",
       "      <td>CBC: MONOCYTES</td>\n",
       "      <td>0.9</td>\n",
       "      <td>k/cumm</td>\n",
       "      <td>1974-01-11 03:14:30.127000000</td>\n",
       "    </tr>\n",
       "    <tr>\n",
       "      <th>2</th>\n",
       "      <td>BF7165BC-CCD9-4CE4-944F-E3C9786B7BF3_1</td>\n",
       "      <td>1</td>\n",
       "      <td>METABOLIC: GLUCOSE</td>\n",
       "      <td>134.2</td>\n",
       "      <td>mg/dL</td>\n",
       "      <td>1974-01-11 13:57:06.970000000</td>\n",
       "    </tr>\n",
       "    <tr>\n",
       "      <th>3</th>\n",
       "      <td>BF7165BC-CCD9-4CE4-944F-E3C9786B7BF3_1</td>\n",
       "      <td>1</td>\n",
       "      <td>CBC: RDW</td>\n",
       "      <td>15.0</td>\n",
       "      <td>%</td>\n",
       "      <td>1974-01-11 02:10:43.437000000</td>\n",
       "    </tr>\n",
       "    <tr>\n",
       "      <th>4</th>\n",
       "      <td>BF7165BC-CCD9-4CE4-944F-E3C9786B7BF3_1</td>\n",
       "      <td>1</td>\n",
       "      <td>METABOLIC: ALBUMIN</td>\n",
       "      <td>2.8</td>\n",
       "      <td>gm/dL</td>\n",
       "      <td>1974-01-11 18:50:32.400000000</td>\n",
       "    </tr>\n",
       "    <tr>\n",
       "      <th>...</th>\n",
       "      <td>...</td>\n",
       "      <td>...</td>\n",
       "      <td>...</td>\n",
       "      <td>...</td>\n",
       "      <td>...</td>\n",
       "      <td>...</td>\n",
       "    </tr>\n",
       "    <tr>\n",
       "      <th>107535382</th>\n",
       "      <td>B7A09A1C-3648-4E28-A2A2-6B202E3BC39C_3</td>\n",
       "      <td>3</td>\n",
       "      <td>URINALYSIS: SPECIFIC GRAVITY</td>\n",
       "      <td>1.0</td>\n",
       "      <td>no unit</td>\n",
       "      <td>2009-04-13 00:52:38.720000000</td>\n",
       "    </tr>\n",
       "    <tr>\n",
       "      <th>107535383</th>\n",
       "      <td>B7A09A1C-3648-4E28-A2A2-6B202E3BC39C_3</td>\n",
       "      <td>3</td>\n",
       "      <td>CBC: MCH</td>\n",
       "      <td>35.3</td>\n",
       "      <td>pg</td>\n",
       "      <td>2009-04-12 22:55:23.240000000</td>\n",
       "    </tr>\n",
       "    <tr>\n",
       "      <th>107535384</th>\n",
       "      <td>B7A09A1C-3648-4E28-A2A2-6B202E3BC39C_3</td>\n",
       "      <td>3</td>\n",
       "      <td>METABOLIC: AST/SGOT</td>\n",
       "      <td>28.9</td>\n",
       "      <td>U/L</td>\n",
       "      <td>2009-04-12 23:43:42.950000000</td>\n",
       "    </tr>\n",
       "    <tr>\n",
       "      <th>107535385</th>\n",
       "      <td>B7A09A1C-3648-4E28-A2A2-6B202E3BC39C_3</td>\n",
       "      <td>3</td>\n",
       "      <td>CBC: RED BLOOD CELL COUNT</td>\n",
       "      <td>3.2</td>\n",
       "      <td>m/cumm</td>\n",
       "      <td>2009-04-12 23:04:07.557000000</td>\n",
       "    </tr>\n",
       "    <tr>\n",
       "      <th>107535386</th>\n",
       "      <td>B7A09A1C-3648-4E28-A2A2-6B202E3BC39C_3</td>\n",
       "      <td>3</td>\n",
       "      <td>METABOLIC: ALBUMIN</td>\n",
       "      <td>5.5</td>\n",
       "      <td>gm/dL</td>\n",
       "      <td>2009-04-12 23:50:14.653000000</td>\n",
       "    </tr>\n",
       "  </tbody>\n",
       "</table>\n",
       "<p>107535387 rows × 6 columns</p>\n",
       "</div>"
      ],
      "text/plain": [
       "                                        PatientID  AdmissionID  \\\n",
       "0          BF7165BC-CCD9-4CE4-944F-E3C9786B7BF3_1            1   \n",
       "1          BF7165BC-CCD9-4CE4-944F-E3C9786B7BF3_1            1   \n",
       "2          BF7165BC-CCD9-4CE4-944F-E3C9786B7BF3_1            1   \n",
       "3          BF7165BC-CCD9-4CE4-944F-E3C9786B7BF3_1            1   \n",
       "4          BF7165BC-CCD9-4CE4-944F-E3C9786B7BF3_1            1   \n",
       "...                                           ...          ...   \n",
       "107535382  B7A09A1C-3648-4E28-A2A2-6B202E3BC39C_3            3   \n",
       "107535383  B7A09A1C-3648-4E28-A2A2-6B202E3BC39C_3            3   \n",
       "107535384  B7A09A1C-3648-4E28-A2A2-6B202E3BC39C_3            3   \n",
       "107535385  B7A09A1C-3648-4E28-A2A2-6B202E3BC39C_3            3   \n",
       "107535386  B7A09A1C-3648-4E28-A2A2-6B202E3BC39C_3            3   \n",
       "\n",
       "                                LabName  LabValue LabUnits  \\\n",
       "0                   METABOLIC: ALT/SGPT      40.0      U/L   \n",
       "1                        CBC: MONOCYTES       0.9   k/cumm   \n",
       "2                    METABOLIC: GLUCOSE     134.2    mg/dL   \n",
       "3                              CBC: RDW      15.0        %   \n",
       "4                    METABOLIC: ALBUMIN       2.8    gm/dL   \n",
       "...                                 ...       ...      ...   \n",
       "107535382  URINALYSIS: SPECIFIC GRAVITY       1.0  no unit   \n",
       "107535383                      CBC: MCH      35.3       pg   \n",
       "107535384           METABOLIC: AST/SGOT      28.9      U/L   \n",
       "107535385     CBC: RED BLOOD CELL COUNT       3.2   m/cumm   \n",
       "107535386            METABOLIC: ALBUMIN       5.5    gm/dL   \n",
       "\n",
       "                             LabDateTime  \n",
       "0          1974-01-11 21:10:51.930000000  \n",
       "1          1974-01-11 03:14:30.127000000  \n",
       "2          1974-01-11 13:57:06.970000000  \n",
       "3          1974-01-11 02:10:43.437000000  \n",
       "4          1974-01-11 18:50:32.400000000  \n",
       "...                                  ...  \n",
       "107535382  2009-04-13 00:52:38.720000000  \n",
       "107535383  2009-04-12 22:55:23.240000000  \n",
       "107535384  2009-04-12 23:43:42.950000000  \n",
       "107535385  2009-04-12 23:04:07.557000000  \n",
       "107535386  2009-04-12 23:50:14.653000000  \n",
       "\n",
       "[107535387 rows x 6 columns]"
      ]
     },
     "execution_count": 6,
     "metadata": {},
     "output_type": "execute_result"
    }
   ],
   "source": [
    "labs_table"
   ]
  },
  {
   "cell_type": "code",
   "execution_count": 7,
   "metadata": {},
   "outputs": [],
   "source": [
    "diag_table.sort_values('PatientID', inplace=True)\n",
    "total_diag = diag_table['PrimaryDiagnosisDescription'] # for with details (ex: Protozoal diseases complicating pregnancy, first trimester)"
   ]
  },
  {
   "cell_type": "code",
   "execution_count": 8,
   "metadata": {},
   "outputs": [],
   "source": [
    "top_diseases =['Pathological fracture in neoplastic disease', 'Bipolar disorder', 'Hydroxyapatite deposition disease', 'Rheumatoid nodule', 'Kaschin-Beck disease']"
   ]
  },
  {
   "cell_type": "markdown",
   "metadata": {},
   "source": [
    "# Setting x-matrix"
   ]
  },
  {
   "cell_type": "code",
   "execution_count": 12,
   "metadata": {},
   "outputs": [],
   "source": [
    "grouped_labs = labs_table.groupby(['PatientID', 'LabName']).aggregate(np.mean)\n",
    "og_labs = grouped_labs.reset_index()"
   ]
  },
  {
   "cell_type": "code",
   "execution_count": 13,
   "metadata": {},
   "outputs": [],
   "source": [
    "x = og_labs.pivot(index='PatientID', columns='LabName', values='LabValue').sort_index()"
   ]
  },
  {
   "cell_type": "markdown",
   "metadata": {},
   "source": [
    "# Saving dataframes"
   ]
  },
  {
   "cell_type": "code",
   "execution_count": 14,
   "metadata": {},
   "outputs": [],
   "source": [
    "x.to_pickle(\"x_data.pkl\")\n",
    "total_diag.to_pickle(\"y_data.pkl\")\n",
    "\n",
    "# x.read_pickle(\"x_data.pkl\")\n",
    "# total_diag.read_pickle(\"x_data.pkl\")"
   ]
  },
  {
   "cell_type": "markdown",
   "metadata": {},
   "source": [
    "# Setting y-matrix"
   ]
  },
  {
   "cell_type": "code",
   "execution_count": null,
   "metadata": {},
   "outputs": [],
   "source": [
    "disease = input() # ex: neoplasm"
   ]
  },
  {
   "cell_type": "code",
   "execution_count": null,
   "metadata": {},
   "outputs": [],
   "source": [
    "y = []\n",
    "\n",
    "for diagnosis in total_diag:\n",
    "  if disease in diagnosis:\n",
    "    y.append(True)\n",
    "  else: \n",
    "    y.append(False)"
   ]
  },
  {
   "cell_type": "markdown",
   "metadata": {},
   "source": [
    "# Comparison logic"
   ]
  },
  {
   "cell_type": "code",
   "execution_count": 32,
   "metadata": {},
   "outputs": [],
   "source": [
    "# comparing similarity between every patient\n",
    "# reminder: figure out what to do with NaNs (maybe remove those tests when doing comparisons)\n",
    "\n",
    "# this is comparing the LabValue?\n",
    "\n",
    "def compareSimilar(patientId1, patientId2):\n",
    "    \n",
    "    patientLabs1 = x.loc[patientId1]\n",
    "    patientLabs2 = x.loc[patientId2]\n",
    "\n",
    "    return 1 - np.mean(abs((patientLabs1 - patientLabs2)))"
   ]
  },
  {
   "cell_type": "code",
   "execution_count": 37,
   "metadata": {},
   "outputs": [
    {
     "data": {
      "text/plain": [
       "1.0"
      ]
     },
     "execution_count": 37,
     "metadata": {},
     "output_type": "execute_result"
    }
   ],
   "source": [
    "compareSimilar('BF7165BC-CCD9-4CE4-944F-E3C9786B7BF3_1', 'BF7165BC-CCD9-4CE4-944F-E3C9786B7BF3_1')"
   ]
  },
  {
   "cell_type": "code",
   "execution_count": 62,
   "metadata": {},
   "outputs": [
    {
     "data": {
      "text/plain": [
       "LabName\n",
       "CBC: ABSOLUTE LYMPHOCYTES         29.466667\n",
       "CBC: ABSOLUTE NEUTROPHILS         72.070000\n",
       "CBC: BASOPHILS                     0.133333\n",
       "CBC: EOSINOPHILS                   0.360000\n",
       "CBC: HEMATOCRIT                   42.240000\n",
       "CBC: HEMOGLOBIN                   14.428571\n",
       "CBC: LYMPHOCYTES                   2.150000\n",
       "CBC: MCH                          28.200000\n",
       "CBC: MCHC                         33.510000\n",
       "CBC: MEAN CORPUSCULAR VOLUME      85.800000\n",
       "CBC: MONOCYTES                     0.711111\n",
       "CBC: NEUTROPHILS                   5.633333\n",
       "CBC: PLATELET COUNT              259.100000\n",
       "CBC: RDW                          12.430000\n",
       "CBC: RED BLOOD CELL COUNT          4.930769\n",
       "CBC: WHITE BLOOD CELL COUNT        6.284615\n",
       "METABOLIC: ALBUMIN                 3.781818\n",
       "METABOLIC: ALK PHOS              117.920000\n",
       "METABOLIC: ALT/SGPT               37.209091\n",
       "METABOLIC: ANION GAP               7.910000\n",
       "METABOLIC: AST/SGOT               29.090909\n",
       "METABOLIC: BILI TOTAL              0.512500\n",
       "METABOLIC: BUN                    16.472727\n",
       "METABOLIC: CALCIUM                 9.375000\n",
       "METABOLIC: CARBON DIOXIDE         27.450000\n",
       "METABOLIC: CHLORIDE              104.472727\n",
       "METABOLIC: CREATININE              0.960000\n",
       "METABOLIC: GLUCOSE                97.450000\n",
       "METABOLIC: POTASSIUM               4.354545\n",
       "METABOLIC: SODIUM                143.236364\n",
       "METABOLIC: TOTAL PROTEIN           7.357143\n",
       "URINALYSIS: PH                     6.162500\n",
       "URINALYSIS: RED BLOOD CELLS        1.710000\n",
       "URINALYSIS: SPECIFIC GRAVITY       1.000000\n",
       "URINALYSIS: WHITE BLOOD CELLS      2.118182\n",
       "Name: BF7165BC-CCD9-4CE4-944F-E3C9786B7BF3_1, dtype: float64"
      ]
     },
     "execution_count": 62,
     "metadata": {},
     "output_type": "execute_result"
    }
   ],
   "source": [
    "x.loc['BF7165BC-CCD9-4CE4-944F-E3C9786B7BF3_1'] #['LabValue']"
   ]
  },
  {
   "cell_type": "code",
   "execution_count": 57,
   "metadata": {},
   "outputs": [],
   "source": [
    "\n",
    "cbc_tests = {'Absolute Lymphocytes':1, 'Absolute Neutrophils':2, 'Basophils':5, 'Eosinophils':3, 'Hematocrit':5, 'Hemoglobin':2, 'Lymphocytes':2, 'MCH':5, 'MCHC':1, 'Mean Corpuscular Volume':5, 'Monocytes':9, 'Neutrophils':4, 'Platelet Count':2, 'RDW':5, 'Red Blood Cell Count':2, 'White Blood Cell Count':5} \n",
    " \n",
    "metabolic_tests = {'Albumin':4, 'ALK PHOS':1, 'ALT/SGPT':5, 'ANION GAP':1, 'AST/SGOT':6, 'BILI Total':2, 'BUN':6, 'Calcium':2, 'Carbon Dioxide':6, 'Chloride':1, 'Creatinine':4, 'Glucose':2, 'Potassium':7, 'Sodium':2, 'Total Protein':6} \n",
    "\n",
    "urinalysis_tests: {'pH':7, 'Red Blood Cells':4, 'Specific Gravity':4, 'White BLOOD Cells':7}\n",
    "    "
   ]
  },
  {
   "cell_type": "code",
   "execution_count": 58,
   "metadata": {},
   "outputs": [
    {
     "data": {
      "text/plain": [
       "{'Absolute Lymphocytes': 1,\n",
       " 'Absolute Neutrophils': 2,\n",
       " 'Basophils': 5,\n",
       " 'Eosinophils': 3,\n",
       " 'Hematocrit': 5,\n",
       " 'Hemoglobin': 2,\n",
       " 'Lymphocytes': 2,\n",
       " 'MCH': 5,\n",
       " 'MCHC': 1,\n",
       " 'Mean Corpuscular Volume': 5,\n",
       " 'Monocytes': 9,\n",
       " 'Neutrophils': 4,\n",
       " 'Platelet Count': 2,\n",
       " 'RDW': 5,\n",
       " 'Red Blood Cell Count': 2,\n",
       " 'White Blood Cell Count': 5}"
      ]
     },
     "execution_count": 58,
     "metadata": {},
     "output_type": "execute_result"
    }
   ],
   "source": [
    "cbc_tests"
   ]
  },
  {
   "cell_type": "code",
   "execution_count": null,
   "metadata": {},
   "outputs": [],
   "source": [
    "def add_patient():\n",
    "    "
   ]
  },
  {
   "cell_type": "code",
   "execution_count": null,
   "metadata": {},
   "outputs": [],
   "source": [
    "# edge cases: patient w a lot missing data, \n",
    "#             patient that is exactly the same as another patient, patient that has all missing data\n",
    "# enter text instead of numerical value, can any values be -ve?, are units consistent?\n",
    "\n",
    "\n"
   ]
  }
 ],
 "metadata": {
  "kernelspec": {
   "display_name": "Python 3",
   "language": "python",
   "name": "python3"
  },
  "language_info": {
   "codemirror_mode": {
    "name": "ipython",
    "version": 3
   },
   "file_extension": ".py",
   "mimetype": "text/x-python",
   "name": "python",
   "nbconvert_exporter": "python",
   "pygments_lexer": "ipython3",
   "version": "3.8.5"
  }
 },
 "nbformat": 4,
 "nbformat_minor": 4
}
