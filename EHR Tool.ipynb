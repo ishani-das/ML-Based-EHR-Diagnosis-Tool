{
 "cells": [
  {
   "cell_type": "code",
   "execution_count": 63,
   "metadata": {},
   "outputs": [],
   "source": [
    "import pandas as pd\n",
    "import numpy as np\n",
    "from pywebio.input import *\n",
    "from pywebio.output import *\n",
    "\n",
    "from ipywidgets import interact, interactive, fixed, interact_manual\n",
    "import ipywidgets as widgets\n",
    "\n",
    "import pandas as pd\n",
    "import numpy as np\n",
    "import seaborn as sns\n",
    "import matplotlib.pyplot as plt\n",
    "import sklearn\n",
    "from sklearn.model_selection import train_test_split \n",
    "\n",
    "from sklearn.linear_model import LogisticRegression\n",
    "from sklearn.tree import DecisionTreeClassifier \n",
    "from sklearn.neighbors import KNeighborsClassifier\n",
    "from sklearn.metrics import plot_confusion_matrix"
   ]
  },
  {
   "cell_type": "code",
   "execution_count": 66,
   "metadata": {},
   "outputs": [],
   "source": []
  },
  {
   "cell_type": "code",
   "execution_count": null,
   "metadata": {},
   "outputs": [],
   "source": []
  },
  {
   "cell_type": "code",
   "execution_count": null,
   "metadata": {},
   "outputs": [],
   "source": []
  },
  {
   "cell_type": "code",
   "execution_count": 4,
   "metadata": {},
   "outputs": [],
   "source": [
    "def readFile(diag_fn, labs_fn):\n",
    "    diag_file = open(diag_fn)\n",
    "    labs_fn = open(labs_fn)\n",
    "    \n",
    "    diagnosis_admissions_table = pd.read_table(diag_fn)\n",
    "    \n",
    "    labs_table = pd.read_table(labs_fn)\n",
    "    labs_table['PatientID'] =  labs_table['PatientID'] + '_' + labs_table['AdmissionID'].astype(str)\n",
    "            \n",
    "    return diagnosis_admissions_table, labs_table"
   ]
  },
  {
   "cell_type": "code",
   "execution_count": 5,
   "metadata": {},
   "outputs": [],
   "source": [
    "diag_table, labs_table = readFile('AdmissionsDiagnosesCorePopulatedTable.txt', 'LabsCorePopulatedTable.txt')"
   ]
  },
  {
   "cell_type": "code",
   "execution_count": 6,
   "metadata": {},
   "outputs": [
    {
     "data": {
      "text/html": [
       "<div>\n",
       "<style scoped>\n",
       "    .dataframe tbody tr th:only-of-type {\n",
       "        vertical-align: middle;\n",
       "    }\n",
       "\n",
       "    .dataframe tbody tr th {\n",
       "        vertical-align: top;\n",
       "    }\n",
       "\n",
       "    .dataframe thead th {\n",
       "        text-align: right;\n",
       "    }\n",
       "</style>\n",
       "<table border=\"1\" class=\"dataframe\">\n",
       "  <thead>\n",
       "    <tr style=\"text-align: right;\">\n",
       "      <th></th>\n",
       "      <th>PatientID</th>\n",
       "      <th>AdmissionID</th>\n",
       "      <th>LabName</th>\n",
       "      <th>LabValue</th>\n",
       "      <th>LabUnits</th>\n",
       "      <th>LabDateTime</th>\n",
       "    </tr>\n",
       "  </thead>\n",
       "  <tbody>\n",
       "    <tr>\n",
       "      <th>0</th>\n",
       "      <td>BF7165BC-CCD9-4CE4-944F-E3C9786B7BF3_1</td>\n",
       "      <td>1</td>\n",
       "      <td>METABOLIC: ALT/SGPT</td>\n",
       "      <td>40.0</td>\n",
       "      <td>U/L</td>\n",
       "      <td>1974-01-11 21:10:51.930000000</td>\n",
       "    </tr>\n",
       "    <tr>\n",
       "      <th>1</th>\n",
       "      <td>BF7165BC-CCD9-4CE4-944F-E3C9786B7BF3_1</td>\n",
       "      <td>1</td>\n",
       "      <td>CBC: MONOCYTES</td>\n",
       "      <td>0.9</td>\n",
       "      <td>k/cumm</td>\n",
       "      <td>1974-01-11 03:14:30.127000000</td>\n",
       "    </tr>\n",
       "    <tr>\n",
       "      <th>2</th>\n",
       "      <td>BF7165BC-CCD9-4CE4-944F-E3C9786B7BF3_1</td>\n",
       "      <td>1</td>\n",
       "      <td>METABOLIC: GLUCOSE</td>\n",
       "      <td>134.2</td>\n",
       "      <td>mg/dL</td>\n",
       "      <td>1974-01-11 13:57:06.970000000</td>\n",
       "    </tr>\n",
       "    <tr>\n",
       "      <th>3</th>\n",
       "      <td>BF7165BC-CCD9-4CE4-944F-E3C9786B7BF3_1</td>\n",
       "      <td>1</td>\n",
       "      <td>CBC: RDW</td>\n",
       "      <td>15.0</td>\n",
       "      <td>%</td>\n",
       "      <td>1974-01-11 02:10:43.437000000</td>\n",
       "    </tr>\n",
       "    <tr>\n",
       "      <th>4</th>\n",
       "      <td>BF7165BC-CCD9-4CE4-944F-E3C9786B7BF3_1</td>\n",
       "      <td>1</td>\n",
       "      <td>METABOLIC: ALBUMIN</td>\n",
       "      <td>2.8</td>\n",
       "      <td>gm/dL</td>\n",
       "      <td>1974-01-11 18:50:32.400000000</td>\n",
       "    </tr>\n",
       "    <tr>\n",
       "      <th>...</th>\n",
       "      <td>...</td>\n",
       "      <td>...</td>\n",
       "      <td>...</td>\n",
       "      <td>...</td>\n",
       "      <td>...</td>\n",
       "      <td>...</td>\n",
       "    </tr>\n",
       "    <tr>\n",
       "      <th>107535382</th>\n",
       "      <td>B7A09A1C-3648-4E28-A2A2-6B202E3BC39C_3</td>\n",
       "      <td>3</td>\n",
       "      <td>URINALYSIS: SPECIFIC GRAVITY</td>\n",
       "      <td>1.0</td>\n",
       "      <td>no unit</td>\n",
       "      <td>2009-04-13 00:52:38.720000000</td>\n",
       "    </tr>\n",
       "    <tr>\n",
       "      <th>107535383</th>\n",
       "      <td>B7A09A1C-3648-4E28-A2A2-6B202E3BC39C_3</td>\n",
       "      <td>3</td>\n",
       "      <td>CBC: MCH</td>\n",
       "      <td>35.3</td>\n",
       "      <td>pg</td>\n",
       "      <td>2009-04-12 22:55:23.240000000</td>\n",
       "    </tr>\n",
       "    <tr>\n",
       "      <th>107535384</th>\n",
       "      <td>B7A09A1C-3648-4E28-A2A2-6B202E3BC39C_3</td>\n",
       "      <td>3</td>\n",
       "      <td>METABOLIC: AST/SGOT</td>\n",
       "      <td>28.9</td>\n",
       "      <td>U/L</td>\n",
       "      <td>2009-04-12 23:43:42.950000000</td>\n",
       "    </tr>\n",
       "    <tr>\n",
       "      <th>107535385</th>\n",
       "      <td>B7A09A1C-3648-4E28-A2A2-6B202E3BC39C_3</td>\n",
       "      <td>3</td>\n",
       "      <td>CBC: RED BLOOD CELL COUNT</td>\n",
       "      <td>3.2</td>\n",
       "      <td>m/cumm</td>\n",
       "      <td>2009-04-12 23:04:07.557000000</td>\n",
       "    </tr>\n",
       "    <tr>\n",
       "      <th>107535386</th>\n",
       "      <td>B7A09A1C-3648-4E28-A2A2-6B202E3BC39C_3</td>\n",
       "      <td>3</td>\n",
       "      <td>METABOLIC: ALBUMIN</td>\n",
       "      <td>5.5</td>\n",
       "      <td>gm/dL</td>\n",
       "      <td>2009-04-12 23:50:14.653000000</td>\n",
       "    </tr>\n",
       "  </tbody>\n",
       "</table>\n",
       "<p>107535387 rows × 6 columns</p>\n",
       "</div>"
      ],
      "text/plain": [
       "                                        PatientID  AdmissionID  \\\n",
       "0          BF7165BC-CCD9-4CE4-944F-E3C9786B7BF3_1            1   \n",
       "1          BF7165BC-CCD9-4CE4-944F-E3C9786B7BF3_1            1   \n",
       "2          BF7165BC-CCD9-4CE4-944F-E3C9786B7BF3_1            1   \n",
       "3          BF7165BC-CCD9-4CE4-944F-E3C9786B7BF3_1            1   \n",
       "4          BF7165BC-CCD9-4CE4-944F-E3C9786B7BF3_1            1   \n",
       "...                                           ...          ...   \n",
       "107535382  B7A09A1C-3648-4E28-A2A2-6B202E3BC39C_3            3   \n",
       "107535383  B7A09A1C-3648-4E28-A2A2-6B202E3BC39C_3            3   \n",
       "107535384  B7A09A1C-3648-4E28-A2A2-6B202E3BC39C_3            3   \n",
       "107535385  B7A09A1C-3648-4E28-A2A2-6B202E3BC39C_3            3   \n",
       "107535386  B7A09A1C-3648-4E28-A2A2-6B202E3BC39C_3            3   \n",
       "\n",
       "                                LabName  LabValue LabUnits  \\\n",
       "0                   METABOLIC: ALT/SGPT      40.0      U/L   \n",
       "1                        CBC: MONOCYTES       0.9   k/cumm   \n",
       "2                    METABOLIC: GLUCOSE     134.2    mg/dL   \n",
       "3                              CBC: RDW      15.0        %   \n",
       "4                    METABOLIC: ALBUMIN       2.8    gm/dL   \n",
       "...                                 ...       ...      ...   \n",
       "107535382  URINALYSIS: SPECIFIC GRAVITY       1.0  no unit   \n",
       "107535383                      CBC: MCH      35.3       pg   \n",
       "107535384           METABOLIC: AST/SGOT      28.9      U/L   \n",
       "107535385     CBC: RED BLOOD CELL COUNT       3.2   m/cumm   \n",
       "107535386            METABOLIC: ALBUMIN       5.5    gm/dL   \n",
       "\n",
       "                             LabDateTime  \n",
       "0          1974-01-11 21:10:51.930000000  \n",
       "1          1974-01-11 03:14:30.127000000  \n",
       "2          1974-01-11 13:57:06.970000000  \n",
       "3          1974-01-11 02:10:43.437000000  \n",
       "4          1974-01-11 18:50:32.400000000  \n",
       "...                                  ...  \n",
       "107535382  2009-04-13 00:52:38.720000000  \n",
       "107535383  2009-04-12 22:55:23.240000000  \n",
       "107535384  2009-04-12 23:43:42.950000000  \n",
       "107535385  2009-04-12 23:04:07.557000000  \n",
       "107535386  2009-04-12 23:50:14.653000000  \n",
       "\n",
       "[107535387 rows x 6 columns]"
      ]
     },
     "execution_count": 6,
     "metadata": {},
     "output_type": "execute_result"
    }
   ],
   "source": [
    "labs_table"
   ]
  },
  {
   "cell_type": "code",
   "execution_count": 7,
   "metadata": {},
   "outputs": [],
   "source": [
    "diag_table.sort_values('PatientID', inplace=True)\n",
    "total_diag = diag_table['PrimaryDiagnosisDescription'] # for with details (ex: Protozoal diseases complicating pregnancy, first trimester)"
   ]
  },
  {
   "cell_type": "code",
   "execution_count": 8,
   "metadata": {},
   "outputs": [],
   "source": [
    "top_diseases =['Pathological fracture in neoplastic disease', 'Bipolar disorder', 'Hydroxyapatite deposition disease', 'Rheumatoid nodule', 'Kaschin-Beck disease']"
   ]
  },
  {
   "cell_type": "markdown",
   "metadata": {},
   "source": [
    "# Setting x-matrix"
   ]
  },
  {
   "cell_type": "code",
   "execution_count": 12,
   "metadata": {},
   "outputs": [],
   "source": [
    "grouped_labs = labs_table.groupby(['PatientID', 'LabName']).aggregate(np.mean)\n",
    "og_labs = grouped_labs.reset_index()"
   ]
  },
  {
   "cell_type": "code",
   "execution_count": 13,
   "metadata": {},
   "outputs": [],
   "source": [
    "x = og_labs.pivot(index='PatientID', columns='LabName', values='LabValue').sort_index()"
   ]
  },
  {
   "cell_type": "markdown",
   "metadata": {},
   "source": [
    "# Saving dataframes"
   ]
  },
  {
   "cell_type": "code",
   "execution_count": 14,
   "metadata": {},
   "outputs": [],
   "source": [
    "x.to_pickle(\"x_data.pkl\")\n",
    "total_diag.to_pickle(\"y_data.pkl\")\n",
    "\n",
    "# x.read_pickle(\"x_data.pkl\")\n",
    "# total_diag.read_pickle(\"x_data.pkl\")"
   ]
  },
  {
   "cell_type": "markdown",
   "metadata": {},
   "source": [
    "# Setting y-matrix"
   ]
  },
  {
   "cell_type": "code",
   "execution_count": null,
   "metadata": {},
   "outputs": [],
   "source": [
    "disease = input() # ex: neoplasm"
   ]
  },
  {
   "cell_type": "code",
   "execution_count": null,
   "metadata": {},
   "outputs": [],
   "source": [
    "y = []\n",
    "\n",
    "for diagnosis in total_diag:\n",
    "  if disease in diagnosis:\n",
    "    y.append(True)\n",
    "  else: \n",
    "    y.append(False)"
   ]
  },
  {
   "cell_type": "markdown",
   "metadata": {},
   "source": [
    "# Comparison logic"
   ]
  },
  {
   "cell_type": "code",
   "execution_count": 32,
   "metadata": {},
   "outputs": [],
   "source": [
    "# comparing similarity between every patient\n",
    "# reminder: figure out what to do with NaNs (maybe remove those tests when doing comparisons)\n",
    "\n",
    "# this is comparing the LabValue?\n",
    "\n",
    "def compareSimilar(patientId1, patientId2):\n",
    "    \n",
    "    patientLabs1 = x.loc[patientId1]\n",
    "    patientLabs2 = x.loc[patientId2]\n",
    "\n",
    "    return 1 - np.mean(abs((patientLabs1 - patientLabs2)))"
   ]
  },
  {
   "cell_type": "code",
   "execution_count": 37,
   "metadata": {},
   "outputs": [
    {
     "data": {
      "text/plain": [
       "1.0"
      ]
     },
     "execution_count": 37,
     "metadata": {},
     "output_type": "execute_result"
    }
   ],
   "source": [
    "compareSimilar('BF7165BC-CCD9-4CE4-944F-E3C9786B7BF3_1', 'BF7165BC-CCD9-4CE4-944F-E3C9786B7BF3_1')"
   ]
  },
  {
   "cell_type": "code",
   "execution_count": 62,
   "metadata": {},
   "outputs": [
    {
     "data": {
      "text/plain": [
       "LabName\n",
       "CBC: ABSOLUTE LYMPHOCYTES         29.466667\n",
       "CBC: ABSOLUTE NEUTROPHILS         72.070000\n",
       "CBC: BASOPHILS                     0.133333\n",
       "CBC: EOSINOPHILS                   0.360000\n",
       "CBC: HEMATOCRIT                   42.240000\n",
       "CBC: HEMOGLOBIN                   14.428571\n",
       "CBC: LYMPHOCYTES                   2.150000\n",
       "CBC: MCH                          28.200000\n",
       "CBC: MCHC                         33.510000\n",
       "CBC: MEAN CORPUSCULAR VOLUME      85.800000\n",
       "CBC: MONOCYTES                     0.711111\n",
       "CBC: NEUTROPHILS                   5.633333\n",
       "CBC: PLATELET COUNT              259.100000\n",
       "CBC: RDW                          12.430000\n",
       "CBC: RED BLOOD CELL COUNT          4.930769\n",
       "CBC: WHITE BLOOD CELL COUNT        6.284615\n",
       "METABOLIC: ALBUMIN                 3.781818\n",
       "METABOLIC: ALK PHOS              117.920000\n",
       "METABOLIC: ALT/SGPT               37.209091\n",
       "METABOLIC: ANION GAP               7.910000\n",
       "METABOLIC: AST/SGOT               29.090909\n",
       "METABOLIC: BILI TOTAL              0.512500\n",
       "METABOLIC: BUN                    16.472727\n",
       "METABOLIC: CALCIUM                 9.375000\n",
       "METABOLIC: CARBON DIOXIDE         27.450000\n",
       "METABOLIC: CHLORIDE              104.472727\n",
       "METABOLIC: CREATININE              0.960000\n",
       "METABOLIC: GLUCOSE                97.450000\n",
       "METABOLIC: POTASSIUM               4.354545\n",
       "METABOLIC: SODIUM                143.236364\n",
       "METABOLIC: TOTAL PROTEIN           7.357143\n",
       "URINALYSIS: PH                     6.162500\n",
       "URINALYSIS: RED BLOOD CELLS        1.710000\n",
       "URINALYSIS: SPECIFIC GRAVITY       1.000000\n",
       "URINALYSIS: WHITE BLOOD CELLS      2.118182\n",
       "Name: BF7165BC-CCD9-4CE4-944F-E3C9786B7BF3_1, dtype: float64"
      ]
     },
     "execution_count": 62,
     "metadata": {},
     "output_type": "execute_result"
    }
   ],
   "source": [
    "x.loc['BF7165BC-CCD9-4CE4-944F-E3C9786B7BF3_1'] #['LabValue']"
   ]
  },
  {
   "cell_type": "code",
   "execution_count": null,
   "metadata": {},
   "outputs": [],
   "source": []
  },
  {
   "cell_type": "code",
   "execution_count": 83,
   "metadata": {},
   "outputs": [],
   "source": [
    "\n",
    "cbc_tests = {'Absolute Lymphocytes':1, 'Absolute Neutrophils':2, 'Basophils':5, 'Eosinophils':3, 'Hematocrit':5, 'Hemoglobin':2, 'Lymphocytes':2, 'MCH':5, 'MCHC':1, 'Mean Corpuscular Volume':5, 'Monocytes':9, 'Neutrophils':4, 'Platelet Count':2, 'RDW':5, 'Red Blood Cell Count':2, 'White Blood Cell Count':5} \n",
    " \n",
    "metabolic_tests = {'Albumin':4, 'ALK PHOS':1, 'ALT/SGPT':5, 'ANION GAP':1, 'AST/SGOT':6, 'BILI Total':2, 'BUN':6, 'Calcium':2, 'Carbon Dioxide':6, 'Chloride':1, 'Creatinine':4, 'Glucose':2, 'Potassium':7, 'Sodium':2, 'Total Protein':6} \n",
    "\n",
    "urinalysis_tests = {'pH':7, 'Red Blood Cells':4, 'Specific Gravity':4, 'White Blood Cells':7}\n",
    "    "
   ]
  },
  {
   "cell_type": "code",
   "execution_count": 84,
   "metadata": {},
   "outputs": [
    {
     "data": {
      "text/plain": [
       "{'pH': 7, 'Red Blood Cells': 4, 'Specific Gravity': 4, 'White Blood Cells': 7}"
      ]
     },
     "execution_count": 84,
     "metadata": {},
     "output_type": "execute_result"
    }
   ],
   "source": [
    "urinalysis_tests"
   ]
  },
  {
   "cell_type": "code",
   "execution_count": 85,
   "metadata": {},
   "outputs": [],
   "source": [
    "all_tests = []\n",
    "\n",
    "for key, val in cbc_tests.items():\n",
    "    all_tests.append(val)\n",
    "    \n",
    "for key, val in metabolic_tests.items():\n",
    "    all_tests.append(val)\n",
    "    \n",
    "for key, val in urinalysis_tests.items():\n",
    "    all_tests.append(val)"
   ]
  },
  {
   "cell_type": "code",
   "execution_count": 86,
   "metadata": {},
   "outputs": [
    {
     "data": {
      "text/plain": [
       "[1,\n",
       " 2,\n",
       " 5,\n",
       " 3,\n",
       " 5,\n",
       " 2,\n",
       " 2,\n",
       " 5,\n",
       " 1,\n",
       " 5,\n",
       " 9,\n",
       " 4,\n",
       " 2,\n",
       " 5,\n",
       " 2,\n",
       " 5,\n",
       " 4,\n",
       " 1,\n",
       " 5,\n",
       " 1,\n",
       " 6,\n",
       " 2,\n",
       " 6,\n",
       " 2,\n",
       " 6,\n",
       " 1,\n",
       " 4,\n",
       " 2,\n",
       " 7,\n",
       " 2,\n",
       " 6,\n",
       " 7,\n",
       " 4,\n",
       " 4,\n",
       " 7]"
      ]
     },
     "execution_count": 86,
     "metadata": {},
     "output_type": "execute_result"
    }
   ],
   "source": [
    "all_tests\n",
    "    "
   ]
  },
  {
   "cell_type": "code",
   "execution_count": 87,
   "metadata": {},
   "outputs": [],
   "source": [
    "def compareSimilar2(patientId1, new_patient_labs):\n",
    "    \n",
    "    patientLabs1 = x.loc[patientId1]\n",
    "\n",
    "    return 1 - np.mean(abs((patientLabs1 - new_patient_labs)))"
   ]
  },
  {
   "cell_type": "code",
   "execution_count": 88,
   "metadata": {},
   "outputs": [
    {
     "data": {
      "text/plain": [
       "-31.839540776683634"
      ]
     },
     "execution_count": 88,
     "metadata": {},
     "output_type": "execute_result"
    }
   ],
   "source": [
    "compareSimilar2('BF7165BC-CCD9-4CE4-944F-E3C9786B7BF3_1', all_tests)"
   ]
  },
  {
   "cell_type": "code",
   "execution_count": null,
   "metadata": {},
   "outputs": [],
   "source": [
    "# edge cases: patient w a lot missing data, \n",
    "#             patient that is exactly the same as another patient, patient that has all missing data\n",
    "# enter text instead of numerical value, can any values be -ve?, are units consistent?\n",
    "\n",
    "\n"
   ]
  },
  {
   "cell_type": "code",
   "execution_count": 68,
   "metadata": {},
   "outputs": [
    {
     "data": {
      "text/plain": [
       "{'Absolute Lymphocytes': 1,\n",
       " 'Absolute Neutrophils': 2,\n",
       " 'Basophils': 5,\n",
       " 'Eosinophils': 3,\n",
       " 'Hematocrit': 5,\n",
       " 'Hemoglobin': 2,\n",
       " 'Lymphocytes': 2,\n",
       " 'MCH': 5,\n",
       " 'MCHC': 1,\n",
       " 'Mean Corpuscular Volume': 5,\n",
       " 'Monocytes': 9,\n",
       " 'Neutrophils': 4,\n",
       " 'Platelet Count': 2,\n",
       " 'RDW': 5,\n",
       " 'Red Blood Cell Count': 2,\n",
       " 'White Blood Cell Count': 5}"
      ]
     },
     "execution_count": 68,
     "metadata": {},
     "output_type": "execute_result"
    }
   ],
   "source": [
    "cbc_tests"
   ]
  },
  {
   "cell_type": "code",
   "execution_count": null,
   "metadata": {},
   "outputs": [],
   "source": []
  }
 ],
 "metadata": {
  "kernelspec": {
   "display_name": "Python 3",
   "language": "python",
   "name": "python3"
  },
  "language_info": {
   "codemirror_mode": {
    "name": "ipython",
    "version": 3
   },
   "file_extension": ".py",
   "mimetype": "text/x-python",
   "name": "python",
   "nbconvert_exporter": "python",
   "pygments_lexer": "ipython3",
   "version": "3.8.5"
  }
 },
 "nbformat": 4,
 "nbformat_minor": 4
}
